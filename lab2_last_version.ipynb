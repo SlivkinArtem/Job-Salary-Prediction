{
  "cells": [
    {
      "cell_type": "code",
      "execution_count": 1,
      "metadata": {
        "id": "ymSM2RiBBLZ4"
      },
      "outputs": [],
      "source": [
        "import requests\n",
        "import time\n",
        "import numpy as np\n",
        "import pandas as pd\n",
        "import matplotlib.pyplot as plt\n",
        "from sklearn.model_selection import cross_val_predict\n",
        "from sklearn.metrics import mean_absolute_error as mae\n",
        "from sklearn.metrics import mean_absolute_percentage_error as mape\n",
        "import seaborn as sns\n",
        "import functions\n",
        "import seaborn as sns\n",
        "from my_catboost import GradientBoosting\n",
        "from sklearn.tree import DecisionTreeRegressor\n",
        "from sklearn.base import BaseEstimator\n",
        "from sklearn.model_selection import GridSearchCV\n",
        "from sklearn.model_selection import train_test_split\n",
        "from sklearn.metrics import r2_score"
      ]
    },
    {
      "cell_type": "code",
      "execution_count": 2,
      "metadata": {
        "id": "7I9dCRquPiYO"
      },
      "outputs": [],
      "source": [
        "# pd.options.display.float_format = '{:,.3f}'.format  # Переустанавливаем формат\n",
        "pd.options.display.float_format = '{:,.0f}'.format"
      ]
    },
    {
      "cell_type": "code",
      "execution_count": 3,
      "metadata": {
        "id": "RBR-CAQvBZg-",
        "colab": {
          "base_uri": "https://localhost:8080/",
          "height": 337
        },
        "outputId": "01c554f3-7b3e-4275-cd4b-1554bd14d356"
      },
      "outputs": [
        {
          "output_type": "execute_result",
          "data": {
            "text/plain": [
              "   premium                   name department  has_test  \\\n",
              "0    False     Разработчик Python        NaN     False   \n",
              "1    False  AI/ML Engineer Стажёр        NaN     False   \n",
              "2    False     Python-разработчик        NaN     False   \n",
              "\n",
              "   response_letter_required     area  \\\n",
              "0                     False   Москва   \n",
              "1                     False  Ташкент   \n",
              "2                     False   Москва   \n",
              "\n",
              "                                             address  \\\n",
              "0                                                NaN   \n",
              "1                                                NaN   \n",
              "2  {'city': 'Москва', 'street': 'Пресненская набе...   \n",
              "\n",
              "                             employer  \\\n",
              "0                            Гриндата   \n",
              "1  YATT YULDASHEV PULAT BAXTIYOROVICH   \n",
              "2                         ВТБ Капитал   \n",
              "\n",
              "                                             snippet       schedule  \\\n",
              "0  {'requirement': 'Python от 2х лет. FastAPI, Fl...    Полный день   \n",
              "1  {'requirement': 'Идеальный кандидат уже имеет ...  Гибкий график   \n",
              "2  {'requirement': 'Python (flask/django, multipr...    Полный день   \n",
              "\n",
              "              working_time_intervals  accept_temporary  \\\n",
              "0                                NaN             False   \n",
              "1  Можно сменами по 4-6 часов в день             False   \n",
              "2                                NaN             False   \n",
              "\n",
              "         professional_roles          experience        employment  \\\n",
              "0  Программист, разработчик  От 1 года до 3 лет  Полная занятость   \n",
              "1  Программист, разработчик           Нет опыта        Стажировка   \n",
              "2  Программист, разработчик           Нет опыта  Полная занятость   \n",
              "\n",
              "                                          key_skills  average_salary  \\\n",
              "0                                                 []             NaN   \n",
              "1  ['Python', 'PostgreSQL', 'ORM', 'Git', 'ООП', ...             NaN   \n",
              "2     ['Python', 'SQL', 'Flask', 'Django Framework']             NaN   \n",
              "\n",
              "   min_salary  max_salary  hours_since_publication  \n",
              "0         NaN         NaN                       27  \n",
              "1         NaN         NaN                       77  \n",
              "2         NaN         NaN                      122  "
            ],
            "text/html": [
              "\n",
              "  <div id=\"df-97cfa63e-a850-4d6e-a53d-e31a0f86e6d6\" class=\"colab-df-container\">\n",
              "    <div>\n",
              "<style scoped>\n",
              "    .dataframe tbody tr th:only-of-type {\n",
              "        vertical-align: middle;\n",
              "    }\n",
              "\n",
              "    .dataframe tbody tr th {\n",
              "        vertical-align: top;\n",
              "    }\n",
              "\n",
              "    .dataframe thead th {\n",
              "        text-align: right;\n",
              "    }\n",
              "</style>\n",
              "<table border=\"1\" class=\"dataframe\">\n",
              "  <thead>\n",
              "    <tr style=\"text-align: right;\">\n",
              "      <th></th>\n",
              "      <th>premium</th>\n",
              "      <th>name</th>\n",
              "      <th>department</th>\n",
              "      <th>has_test</th>\n",
              "      <th>response_letter_required</th>\n",
              "      <th>area</th>\n",
              "      <th>address</th>\n",
              "      <th>employer</th>\n",
              "      <th>snippet</th>\n",
              "      <th>schedule</th>\n",
              "      <th>working_time_intervals</th>\n",
              "      <th>accept_temporary</th>\n",
              "      <th>professional_roles</th>\n",
              "      <th>experience</th>\n",
              "      <th>employment</th>\n",
              "      <th>key_skills</th>\n",
              "      <th>average_salary</th>\n",
              "      <th>min_salary</th>\n",
              "      <th>max_salary</th>\n",
              "      <th>hours_since_publication</th>\n",
              "    </tr>\n",
              "  </thead>\n",
              "  <tbody>\n",
              "    <tr>\n",
              "      <th>0</th>\n",
              "      <td>False</td>\n",
              "      <td>Разработчик Python</td>\n",
              "      <td>NaN</td>\n",
              "      <td>False</td>\n",
              "      <td>False</td>\n",
              "      <td>Москва</td>\n",
              "      <td>NaN</td>\n",
              "      <td>Гриндата</td>\n",
              "      <td>{'requirement': 'Python от 2х лет. FastAPI, Fl...</td>\n",
              "      <td>Полный день</td>\n",
              "      <td>NaN</td>\n",
              "      <td>False</td>\n",
              "      <td>Программист, разработчик</td>\n",
              "      <td>От 1 года до 3 лет</td>\n",
              "      <td>Полная занятость</td>\n",
              "      <td>[]</td>\n",
              "      <td>NaN</td>\n",
              "      <td>NaN</td>\n",
              "      <td>NaN</td>\n",
              "      <td>27</td>\n",
              "    </tr>\n",
              "    <tr>\n",
              "      <th>1</th>\n",
              "      <td>False</td>\n",
              "      <td>AI/ML Engineer Стажёр</td>\n",
              "      <td>NaN</td>\n",
              "      <td>False</td>\n",
              "      <td>False</td>\n",
              "      <td>Ташкент</td>\n",
              "      <td>NaN</td>\n",
              "      <td>YATT YULDASHEV PULAT BAXTIYOROVICH</td>\n",
              "      <td>{'requirement': 'Идеальный кандидат уже имеет ...</td>\n",
              "      <td>Гибкий график</td>\n",
              "      <td>Можно сменами по 4-6 часов в день</td>\n",
              "      <td>False</td>\n",
              "      <td>Программист, разработчик</td>\n",
              "      <td>Нет опыта</td>\n",
              "      <td>Стажировка</td>\n",
              "      <td>['Python', 'PostgreSQL', 'ORM', 'Git', 'ООП', ...</td>\n",
              "      <td>NaN</td>\n",
              "      <td>NaN</td>\n",
              "      <td>NaN</td>\n",
              "      <td>77</td>\n",
              "    </tr>\n",
              "    <tr>\n",
              "      <th>2</th>\n",
              "      <td>False</td>\n",
              "      <td>Python-разработчик</td>\n",
              "      <td>NaN</td>\n",
              "      <td>False</td>\n",
              "      <td>False</td>\n",
              "      <td>Москва</td>\n",
              "      <td>{'city': 'Москва', 'street': 'Пресненская набе...</td>\n",
              "      <td>ВТБ Капитал</td>\n",
              "      <td>{'requirement': 'Python (flask/django, multipr...</td>\n",
              "      <td>Полный день</td>\n",
              "      <td>NaN</td>\n",
              "      <td>False</td>\n",
              "      <td>Программист, разработчик</td>\n",
              "      <td>Нет опыта</td>\n",
              "      <td>Полная занятость</td>\n",
              "      <td>['Python', 'SQL', 'Flask', 'Django Framework']</td>\n",
              "      <td>NaN</td>\n",
              "      <td>NaN</td>\n",
              "      <td>NaN</td>\n",
              "      <td>122</td>\n",
              "    </tr>\n",
              "  </tbody>\n",
              "</table>\n",
              "</div>\n",
              "    <div class=\"colab-df-buttons\">\n",
              "\n",
              "  <div class=\"colab-df-container\">\n",
              "    <button class=\"colab-df-convert\" onclick=\"convertToInteractive('df-97cfa63e-a850-4d6e-a53d-e31a0f86e6d6')\"\n",
              "            title=\"Convert this dataframe to an interactive table.\"\n",
              "            style=\"display:none;\">\n",
              "\n",
              "  <svg xmlns=\"http://www.w3.org/2000/svg\" height=\"24px\" viewBox=\"0 -960 960 960\">\n",
              "    <path d=\"M120-120v-720h720v720H120Zm60-500h600v-160H180v160Zm220 220h160v-160H400v160Zm0 220h160v-160H400v160ZM180-400h160v-160H180v160Zm440 0h160v-160H620v160ZM180-180h160v-160H180v160Zm440 0h160v-160H620v160Z\"/>\n",
              "  </svg>\n",
              "    </button>\n",
              "\n",
              "  <style>\n",
              "    .colab-df-container {\n",
              "      display:flex;\n",
              "      gap: 12px;\n",
              "    }\n",
              "\n",
              "    .colab-df-convert {\n",
              "      background-color: #E8F0FE;\n",
              "      border: none;\n",
              "      border-radius: 50%;\n",
              "      cursor: pointer;\n",
              "      display: none;\n",
              "      fill: #1967D2;\n",
              "      height: 32px;\n",
              "      padding: 0 0 0 0;\n",
              "      width: 32px;\n",
              "    }\n",
              "\n",
              "    .colab-df-convert:hover {\n",
              "      background-color: #E2EBFA;\n",
              "      box-shadow: 0px 1px 2px rgba(60, 64, 67, 0.3), 0px 1px 3px 1px rgba(60, 64, 67, 0.15);\n",
              "      fill: #174EA6;\n",
              "    }\n",
              "\n",
              "    .colab-df-buttons div {\n",
              "      margin-bottom: 4px;\n",
              "    }\n",
              "\n",
              "    [theme=dark] .colab-df-convert {\n",
              "      background-color: #3B4455;\n",
              "      fill: #D2E3FC;\n",
              "    }\n",
              "\n",
              "    [theme=dark] .colab-df-convert:hover {\n",
              "      background-color: #434B5C;\n",
              "      box-shadow: 0px 1px 3px 1px rgba(0, 0, 0, 0.15);\n",
              "      filter: drop-shadow(0px 1px 2px rgba(0, 0, 0, 0.3));\n",
              "      fill: #FFFFFF;\n",
              "    }\n",
              "  </style>\n",
              "\n",
              "    <script>\n",
              "      const buttonEl =\n",
              "        document.querySelector('#df-97cfa63e-a850-4d6e-a53d-e31a0f86e6d6 button.colab-df-convert');\n",
              "      buttonEl.style.display =\n",
              "        google.colab.kernel.accessAllowed ? 'block' : 'none';\n",
              "\n",
              "      async function convertToInteractive(key) {\n",
              "        const element = document.querySelector('#df-97cfa63e-a850-4d6e-a53d-e31a0f86e6d6');\n",
              "        const dataTable =\n",
              "          await google.colab.kernel.invokeFunction('convertToInteractive',\n",
              "                                                    [key], {});\n",
              "        if (!dataTable) return;\n",
              "\n",
              "        const docLinkHtml = 'Like what you see? Visit the ' +\n",
              "          '<a target=\"_blank\" href=https://colab.research.google.com/notebooks/data_table.ipynb>data table notebook</a>'\n",
              "          + ' to learn more about interactive tables.';\n",
              "        element.innerHTML = '';\n",
              "        dataTable['output_type'] = 'display_data';\n",
              "        await google.colab.output.renderOutput(dataTable, element);\n",
              "        const docLink = document.createElement('div');\n",
              "        docLink.innerHTML = docLinkHtml;\n",
              "        element.appendChild(docLink);\n",
              "      }\n",
              "    </script>\n",
              "  </div>\n",
              "\n",
              "\n",
              "<div id=\"df-364257c6-7cd7-4355-9473-8ffc70515f23\">\n",
              "  <button class=\"colab-df-quickchart\" onclick=\"quickchart('df-364257c6-7cd7-4355-9473-8ffc70515f23')\"\n",
              "            title=\"Suggest charts\"\n",
              "            style=\"display:none;\">\n",
              "\n",
              "<svg xmlns=\"http://www.w3.org/2000/svg\" height=\"24px\"viewBox=\"0 0 24 24\"\n",
              "     width=\"24px\">\n",
              "    <g>\n",
              "        <path d=\"M19 3H5c-1.1 0-2 .9-2 2v14c0 1.1.9 2 2 2h14c1.1 0 2-.9 2-2V5c0-1.1-.9-2-2-2zM9 17H7v-7h2v7zm4 0h-2V7h2v10zm4 0h-2v-4h2v4z\"/>\n",
              "    </g>\n",
              "</svg>\n",
              "  </button>\n",
              "\n",
              "<style>\n",
              "  .colab-df-quickchart {\n",
              "      --bg-color: #E8F0FE;\n",
              "      --fill-color: #1967D2;\n",
              "      --hover-bg-color: #E2EBFA;\n",
              "      --hover-fill-color: #174EA6;\n",
              "      --disabled-fill-color: #AAA;\n",
              "      --disabled-bg-color: #DDD;\n",
              "  }\n",
              "\n",
              "  [theme=dark] .colab-df-quickchart {\n",
              "      --bg-color: #3B4455;\n",
              "      --fill-color: #D2E3FC;\n",
              "      --hover-bg-color: #434B5C;\n",
              "      --hover-fill-color: #FFFFFF;\n",
              "      --disabled-bg-color: #3B4455;\n",
              "      --disabled-fill-color: #666;\n",
              "  }\n",
              "\n",
              "  .colab-df-quickchart {\n",
              "    background-color: var(--bg-color);\n",
              "    border: none;\n",
              "    border-radius: 50%;\n",
              "    cursor: pointer;\n",
              "    display: none;\n",
              "    fill: var(--fill-color);\n",
              "    height: 32px;\n",
              "    padding: 0;\n",
              "    width: 32px;\n",
              "  }\n",
              "\n",
              "  .colab-df-quickchart:hover {\n",
              "    background-color: var(--hover-bg-color);\n",
              "    box-shadow: 0 1px 2px rgba(60, 64, 67, 0.3), 0 1px 3px 1px rgba(60, 64, 67, 0.15);\n",
              "    fill: var(--button-hover-fill-color);\n",
              "  }\n",
              "\n",
              "  .colab-df-quickchart-complete:disabled,\n",
              "  .colab-df-quickchart-complete:disabled:hover {\n",
              "    background-color: var(--disabled-bg-color);\n",
              "    fill: var(--disabled-fill-color);\n",
              "    box-shadow: none;\n",
              "  }\n",
              "\n",
              "  .colab-df-spinner {\n",
              "    border: 2px solid var(--fill-color);\n",
              "    border-color: transparent;\n",
              "    border-bottom-color: var(--fill-color);\n",
              "    animation:\n",
              "      spin 1s steps(1) infinite;\n",
              "  }\n",
              "\n",
              "  @keyframes spin {\n",
              "    0% {\n",
              "      border-color: transparent;\n",
              "      border-bottom-color: var(--fill-color);\n",
              "      border-left-color: var(--fill-color);\n",
              "    }\n",
              "    20% {\n",
              "      border-color: transparent;\n",
              "      border-left-color: var(--fill-color);\n",
              "      border-top-color: var(--fill-color);\n",
              "    }\n",
              "    30% {\n",
              "      border-color: transparent;\n",
              "      border-left-color: var(--fill-color);\n",
              "      border-top-color: var(--fill-color);\n",
              "      border-right-color: var(--fill-color);\n",
              "    }\n",
              "    40% {\n",
              "      border-color: transparent;\n",
              "      border-right-color: var(--fill-color);\n",
              "      border-top-color: var(--fill-color);\n",
              "    }\n",
              "    60% {\n",
              "      border-color: transparent;\n",
              "      border-right-color: var(--fill-color);\n",
              "    }\n",
              "    80% {\n",
              "      border-color: transparent;\n",
              "      border-right-color: var(--fill-color);\n",
              "      border-bottom-color: var(--fill-color);\n",
              "    }\n",
              "    90% {\n",
              "      border-color: transparent;\n",
              "      border-bottom-color: var(--fill-color);\n",
              "    }\n",
              "  }\n",
              "</style>\n",
              "\n",
              "  <script>\n",
              "    async function quickchart(key) {\n",
              "      const quickchartButtonEl =\n",
              "        document.querySelector('#' + key + ' button');\n",
              "      quickchartButtonEl.disabled = true;  // To prevent multiple clicks.\n",
              "      quickchartButtonEl.classList.add('colab-df-spinner');\n",
              "      try {\n",
              "        const charts = await google.colab.kernel.invokeFunction(\n",
              "            'suggestCharts', [key], {});\n",
              "      } catch (error) {\n",
              "        console.error('Error during call to suggestCharts:', error);\n",
              "      }\n",
              "      quickchartButtonEl.classList.remove('colab-df-spinner');\n",
              "      quickchartButtonEl.classList.add('colab-df-quickchart-complete');\n",
              "    }\n",
              "    (() => {\n",
              "      let quickchartButtonEl =\n",
              "        document.querySelector('#df-364257c6-7cd7-4355-9473-8ffc70515f23 button');\n",
              "      quickchartButtonEl.style.display =\n",
              "        google.colab.kernel.accessAllowed ? 'block' : 'none';\n",
              "    })();\n",
              "  </script>\n",
              "</div>\n",
              "    </div>\n",
              "  </div>\n"
            ],
            "application/vnd.google.colaboratory.intrinsic+json": {
              "type": "dataframe",
              "variable_name": "jobs_df",
              "summary": "{\n  \"name\": \"jobs_df\",\n  \"rows\": 1021,\n  \"fields\": [\n    {\n      \"column\": \"premium\",\n      \"properties\": {\n        \"dtype\": \"boolean\",\n        \"num_unique_values\": 2,\n        \"samples\": [\n          true,\n          false\n        ],\n        \"semantic_type\": \"\",\n        \"description\": \"\"\n      }\n    },\n    {\n      \"column\": \"name\",\n      \"properties\": {\n        \"dtype\": \"string\",\n        \"num_unique_values\": 700,\n        \"samples\": [\n          \"Data Scientist \\u0432 \\u0440\\u0435\\u043a\\u043e\\u043c\\u0435\\u043d\\u0434\\u0430\\u0442\\u0435\\u043b\\u044c\\u043d\\u044b\\u0435 \\u0441\\u0438\\u0441\\u0442\\u0435\\u043c\\u044b\",\n          \"Lead/ Senior Data Scientist (\\u041f\\u043b\\u0430\\u0442\\u043d\\u043e\\u0435 \\u043f\\u0440\\u043e\\u0434\\u0432\\u0438\\u0436\\u0435\\u043d\\u0438\\u0435 \\u0432 \\u041f\\u043e\\u0438\\u0441\\u043a\\u0435)\"\n        ],\n        \"semantic_type\": \"\",\n        \"description\": \"\"\n      }\n    },\n    {\n      \"column\": \"department\",\n      \"properties\": {\n        \"dtype\": \"category\",\n        \"num_unique_values\": 57,\n        \"samples\": [\n          \"\\\"\\u041c\\u0422\\u0421\\\", \\u0420\\u0430\\u0431\\u043e\\u0442\\u0430 \\u0432 IT\",\n          \"Ozon \\u0418\\u043d\\u0444\\u043e\\u0440\\u043c\\u0430\\u0446\\u0438\\u043e\\u043d\\u043d\\u044b\\u0435 \\u0442\\u0435\\u0445\\u043d\\u043e\\u043b\\u043e\\u0433\\u0438\\u0438\"\n        ],\n        \"semantic_type\": \"\",\n        \"description\": \"\"\n      }\n    },\n    {\n      \"column\": \"has_test\",\n      \"properties\": {\n        \"dtype\": \"boolean\",\n        \"num_unique_values\": 2,\n        \"samples\": [\n          true,\n          false\n        ],\n        \"semantic_type\": \"\",\n        \"description\": \"\"\n      }\n    },\n    {\n      \"column\": \"response_letter_required\",\n      \"properties\": {\n        \"dtype\": \"boolean\",\n        \"num_unique_values\": 2,\n        \"samples\": [\n          true,\n          false\n        ],\n        \"semantic_type\": \"\",\n        \"description\": \"\"\n      }\n    },\n    {\n      \"column\": \"area\",\n      \"properties\": {\n        \"dtype\": \"category\",\n        \"num_unique_values\": 54,\n        \"samples\": [\n          \"\\u0412\\u043e\\u043b\\u0433\\u043e\\u0433\\u0440\\u0430\\u0434\",\n          \"\\u0411\\u0440\\u0435\\u0441\\u0442\"\n        ],\n        \"semantic_type\": \"\",\n        \"description\": \"\"\n      }\n    },\n    {\n      \"column\": \"address\",\n      \"properties\": {\n        \"dtype\": \"category\",\n        \"num_unique_values\": 277,\n        \"samples\": [\n          \"{'city': None, 'street': None, 'building': None, 'lat': 55.78399210390935, 'lng': 37.615506593138, 'description': None, 'raw': '\\u041c\\u043e\\u0441\\u043a\\u0432\\u0430, \\u0443\\u043b\\u0438\\u0446\\u0430 \\u0421\\u043e\\u0432\\u0435\\u0442\\u0441\\u043a\\u043e\\u0439 \\u0410\\u0440\\u043c\\u0438\\u0438, 5, \\u043c \\u0414\\u043e\\u0441\\u0442\\u043e\\u0435\\u0432\\u0441\\u043a\\u0430\\u044f', 'metro': None, 'metro_stations': [], 'id': '180089'}\",\n          \"{'city': '\\u041c\\u043e\\u0441\\u043a\\u0432\\u0430', 'street': '\\u0443\\u043b\\u0438\\u0446\\u0430 \\u0413\\u043e\\u0434\\u043e\\u0432\\u0438\\u043a\\u043e\\u0432\\u0430', 'building': '9\\u044117', 'lat': 55.80865, 'lng': 37.629403, 'description': None, 'raw': '\\u041c\\u043e\\u0441\\u043a\\u0432\\u0430, \\u0443\\u043b\\u0438\\u0446\\u0430 \\u0413\\u043e\\u0434\\u043e\\u0432\\u0438\\u043a\\u043e\\u0432\\u0430, 9\\u044117', 'metro': None, 'metro_stations': [], 'id': '6110108'}\"\n        ],\n        \"semantic_type\": \"\",\n        \"description\": \"\"\n      }\n    },\n    {\n      \"column\": \"employer\",\n      \"properties\": {\n        \"dtype\": \"category\",\n        \"num_unique_values\": 426,\n        \"samples\": [\n          \"Nedra Digital\",\n          \"Rubbles\"\n        ],\n        \"semantic_type\": \"\",\n        \"description\": \"\"\n      }\n    },\n    {\n      \"column\": \"snippet\",\n      \"properties\": {\n        \"dtype\": \"string\",\n        \"num_unique_values\": 843,\n        \"samples\": [\n          \"{'requirement': '\\u0423\\u043c\\u0435\\u043d\\u0438\\u0435 \\u043a\\u043e\\u043f\\u0430\\u0442\\u044c\\u0441\\u044f \\u0432 \\u0434\\u0430\\u043d\\u043d\\u044b\\u0445 \\u0438 \\u043d\\u0430\\u0445\\u043e\\u0434\\u0438\\u0442\\u044c \\u0438\\u043d\\u0441\\u0430\\u0439\\u0442\\u044b. \\u0411\\u043e\\u043b\\u044c\\u0448\\u043e\\u0439 \\u043e\\u043f\\u044b\\u0442 \\u0441 SQL, Hadoop, Spark, Python, Excel. \\u0428\\u0440\\u0430\\u043c\\u044b \\u0438 \\u0432\\u044b\\u0432\\u043e\\u0434\\u044b \\u043e\\u0442 3...', 'responsibility': '\\u041f\\u043e\\u0434\\u0433\\u043e\\u0442\\u043e\\u0432\\u043a\\u0430 \\u043f\\u043e\\u0442\\u043e\\u043a\\u043e\\u0432 \\u0434\\u0430\\u043d\\u043d\\u044b\\u0445 (\\u0432\\u0438\\u0442\\u0440\\u0438\\u043d\\u044b, \\u0438\\u043d\\u0442\\u0435\\u0433\\u0440\\u0430\\u0446\\u0438\\u0438 \\u0441\\u0438\\u0441\\u0442\\u0435\\u043c \\u0431\\u0430\\u043d\\u043a\\u0430) \\u0434\\u043b\\u044f \\u043f\\u0440\\u043e\\u043c\\u044b\\u0448\\u043b\\u0435\\u043d\\u043d\\u043e\\u0439 \\u0440\\u0430\\u0431\\u043e\\u0442\\u044b <highlighttext>ML</highlighttext>-\\u043c\\u043e\\u0434\\u0435\\u043b\\u0435\\u0439. \\u0422\\u043e\\u0447\\u0435\\u0447\\u043d\\u0430\\u044f ad-hoc \\u0430\\u043d\\u0430\\u043b\\u0438\\u0442\\u0438\\u043a\\u0430 \\u043f\\u043e \\u043e\\u0441\\u043e\\u0431\\u0435\\u043d\\u043d\\u043e \\u0441\\u043b\\u043e\\u0436\\u043d\\u044b\\u043c \\u0437\\u0430\\u043f\\u0440\\u043e\\u0441\\u0430\\u043c. '}\",\n          \"{'requirement': '...\\u0434\\u043b\\u044f \\u043e\\u0431\\u0443\\u0447\\u0435\\u043d\\u0438\\u044f \\u043d\\u0430\\u0448\\u0438\\u0445 <highlighttext>ML</highlighttext>, OCR \\u0438 NLP \\u0430\\u043b\\u0433\\u043e\\u0440\\u0438\\u0442\\u043c\\u043e\\u0432. \\u041e\\u0431\\u0443\\u0447\\u0430\\u0442\\u044c \\u0438 \\u043d\\u0430\\u0441\\u0442\\u0440\\u0430\\u0438\\u0432\\u0430\\u0442\\u044c \\\"\\u043c\\u043e\\u0437\\u0433\\u0438\\\" \\u0441\\u0438\\u0441\\u0442\\u0435\\u043c\\u044b: \\u0441\\u043e\\u0437\\u0434\\u0430\\u0432\\u0430\\u0442\\u044c \\u043c\\u043e\\u0449\\u043d\\u044b\\u0435 \\u043c\\u043e\\u0434\\u0435\\u043b\\u0438 <highlighttext>ML</highlighttext>, OCR \\u0438 NLP...', 'responsibility': '\\u0413\\u043e\\u0442\\u043e\\u0432 \\u0431\\u0440\\u043e\\u0441\\u0438\\u0442\\u044c \\u0432\\u044b\\u0437\\u043e\\u0432 \\u0440\\u0443\\u0442\\u0438\\u043d\\u0435 \\u0438 \\u0441\\u0442\\u0430\\u0442\\u044c \\u041c\\u0430\\u0441\\u0442\\u0435\\u0440\\u043e\\u043c \\u0434\\u0430\\u043d\\u043d\\u044b\\u0445? \\u0421\\u0442\\u0430\\u0442\\u044c \\u0430\\u0440\\u0445\\u0438\\u0442\\u0435\\u043a\\u0442\\u043e\\u0440\\u043e\\u043c \\u0438\\u043d\\u0442\\u0435\\u043b\\u043b\\u0435\\u043a\\u0442\\u0443\\u0430\\u043b\\u044c\\u043d\\u043e\\u0433\\u043e production pipeline: \\u0430\\u043d\\u0430\\u043b\\u0438\\u0437\\u0438\\u0440\\u043e\\u0432\\u0430\\u0442\\u044c \\u0442\\u0440\\u0435\\u0431\\u043e\\u0432\\u0430\\u043d\\u0438\\u044f, \\u0441\\u043e\\u0432\\u0435\\u0440\\u0448\\u0435\\u043d\\u0441\\u0442\\u0432\\u043e\\u0432\\u0430\\u0442\\u044c \\u0438 \\u043f\\u0440\\u043e\\u0435\\u043a\\u0442\\u0438\\u0440\\u043e\\u0432\\u0430\\u0442\\u044c \\u0435\\u0433\\u043e \\u0430\\u0440\\u0445\\u0438\\u0442\\u0435\\u043a\\u0442\\u0443\\u0440\\u0443.'}\"\n        ],\n        \"semantic_type\": \"\",\n        \"description\": \"\"\n      }\n    },\n    {\n      \"column\": \"schedule\",\n      \"properties\": {\n        \"dtype\": \"category\",\n        \"num_unique_values\": 4,\n        \"samples\": [\n          \"\\u0413\\u0438\\u0431\\u043a\\u0438\\u0439 \\u0433\\u0440\\u0430\\u0444\\u0438\\u043a\",\n          \"\\u0421\\u043c\\u0435\\u043d\\u043d\\u044b\\u0439 \\u0433\\u0440\\u0430\\u0444\\u0438\\u043a\"\n        ],\n        \"semantic_type\": \"\",\n        \"description\": \"\"\n      }\n    },\n    {\n      \"column\": \"working_time_intervals\",\n      \"properties\": {\n        \"dtype\": \"category\",\n        \"num_unique_values\": 1,\n        \"samples\": [\n          \"\\u041c\\u043e\\u0436\\u043d\\u043e \\u0441\\u043c\\u0435\\u043d\\u0430\\u043c\\u0438 \\u043f\\u043e\\u00a04-6\\u00a0\\u0447\\u0430\\u0441\\u043e\\u0432 \\u0432\\u00a0\\u0434\\u0435\\u043d\\u044c\"\n        ],\n        \"semantic_type\": \"\",\n        \"description\": \"\"\n      }\n    },\n    {\n      \"column\": \"accept_temporary\",\n      \"properties\": {\n        \"dtype\": \"boolean\",\n        \"num_unique_values\": 2,\n        \"samples\": [\n          true\n        ],\n        \"semantic_type\": \"\",\n        \"description\": \"\"\n      }\n    },\n    {\n      \"column\": \"professional_roles\",\n      \"properties\": {\n        \"dtype\": \"category\",\n        \"num_unique_values\": 37,\n        \"samples\": [\n          \"\\u0420\\u0443\\u043a\\u043e\\u0432\\u043e\\u0434\\u0438\\u0442\\u0435\\u043b\\u044c \\u043e\\u0442\\u0434\\u0435\\u043b\\u0430 \\u043c\\u0430\\u0440\\u043a\\u0435\\u0442\\u0438\\u043d\\u0433\\u0430 \\u0438 \\u0440\\u0435\\u043a\\u043b\\u0430\\u043c\\u044b\"\n        ],\n        \"semantic_type\": \"\",\n        \"description\": \"\"\n      }\n    },\n    {\n      \"column\": \"experience\",\n      \"properties\": {\n        \"dtype\": \"category\",\n        \"num_unique_values\": 4,\n        \"samples\": [\n          \"\\u041d\\u0435\\u0442 \\u043e\\u043f\\u044b\\u0442\\u0430\"\n        ],\n        \"semantic_type\": \"\",\n        \"description\": \"\"\n      }\n    },\n    {\n      \"column\": \"employment\",\n      \"properties\": {\n        \"dtype\": \"category\",\n        \"num_unique_values\": 4,\n        \"samples\": [\n          \"\\u0421\\u0442\\u0430\\u0436\\u0438\\u0440\\u043e\\u0432\\u043a\\u0430\"\n        ],\n        \"semantic_type\": \"\",\n        \"description\": \"\"\n      }\n    },\n    {\n      \"column\": \"key_skills\",\n      \"properties\": {\n        \"dtype\": \"category\",\n        \"num_unique_values\": 491,\n        \"samples\": [\n          \"['Python', 'SQL', 'Deep Learning', 'ML']\"\n        ],\n        \"semantic_type\": \"\",\n        \"description\": \"\"\n      }\n    },\n    {\n      \"column\": \"average_salary\",\n      \"properties\": {\n        \"dtype\": \"number\",\n        \"std\": 197863.79616558144,\n        \"min\": 5625.0,\n        \"max\": 1250000.0,\n        \"num_unique_values\": 76,\n        \"samples\": [\n          275000.0\n        ],\n        \"semantic_type\": \"\",\n        \"description\": \"\"\n      }\n    },\n    {\n      \"column\": \"min_salary\",\n      \"properties\": {\n        \"dtype\": \"number\",\n        \"std\": 156002.91988410216,\n        \"min\": 4500.0,\n        \"max\": 1000000.0,\n        \"num_unique_values\": 47,\n        \"samples\": [\n          239463.60153256703\n        ],\n        \"semantic_type\": \"\",\n        \"description\": \"\"\n      }\n    },\n    {\n      \"column\": \"max_salary\",\n      \"properties\": {\n        \"dtype\": \"number\",\n        \"std\": 267433.4538812255,\n        \"min\": 50000.0,\n        \"max\": 1436781.6091954024,\n        \"num_unique_values\": 36,\n        \"samples\": [\n          431034.4827586207\n        ],\n        \"semantic_type\": \"\",\n        \"description\": \"\"\n      }\n    },\n    {\n      \"column\": \"hours_since_publication\",\n      \"properties\": {\n        \"dtype\": \"number\",\n        \"std\": 213,\n        \"min\": 1,\n        \"max\": 705,\n        \"num_unique_values\": 310,\n        \"samples\": [\n          166\n        ],\n        \"semantic_type\": \"\",\n        \"description\": \"\"\n      }\n    }\n  ]\n}"
            }
          },
          "metadata": {},
          "execution_count": 3
        }
      ],
      "source": [
        "jobs_df = pd.read_csv(\"jobs_df.csv\")\n",
        "jobs_df.head(3)"
      ]
    },
    {
      "cell_type": "code",
      "execution_count": 4,
      "metadata": {
        "id": "wBds8xZOEo_X",
        "colab": {
          "base_uri": "https://localhost:8080/",
          "height": 452
        },
        "outputId": "d3427244-4588-465c-d537-87dfb802088b"
      },
      "outputs": [
        {
          "output_type": "display_data",
          "data": {
            "text/plain": [
              "<Figure size 640x480 with 1 Axes>"
            ],
            "image/png": "[encoded data removed]"
          },
          "metadata": {}
        }
      ],
      "source": [
        "jobs_df['schedule'].value_counts().sort_values().plot.barh(title='количество вакансий')\n",
        "plt.show()"
      ]
    },
    {
      "cell_type": "code",
      "execution_count": 5,
      "metadata": {
        "id": "FeG9RlCxHrPd",
        "colab": {
          "base_uri": "https://localhost:8080/",
          "height": 452
        },
        "outputId": "c749187d-83a9-4430-88f9-a806d9c16ae9"
      },
      "outputs": [
        {
          "output_type": "display_data",
          "data": {
            "text/plain": [
              "<Figure size 640x480 with 1 Axes>"
            ],
            "image/png": "[encoded data removed]"
          },
          "metadata": {}
        }
      ],
      "source": [
        "jobs_df.employer.value_counts().head(10).sort_values().plot.barh(title='Количество вакансий')\n",
        "plt.show()"
      ]
    },
    {
      "cell_type": "code",
      "execution_count": 6,
      "metadata": {
        "id": "-fi_e8qJI_CC",
        "colab": {
          "base_uri": "https://localhost:8080/",
          "height": 452
        },
        "outputId": "1ea4b6b0-23c0-4c67-ae5e-9ba8f646640d"
      },
      "outputs": [
        {
          "output_type": "display_data",
          "data": {
            "text/plain": [
              "<Figure size 640x480 with 1 Axes>"
            ],
            "image/png": "[encoded data removed]"
          },
          "metadata": {}
        }
      ],
      "source": [
        "jobs_df.area.value_counts().head(10).sort_values().plot.barh(title='Количество вакансий')\n",
        "plt.show()"
      ]
    },
    {
      "cell_type": "code",
      "execution_count": 7,
      "metadata": {
        "id": "767j36oLJGuH",
        "colab": {
          "base_uri": "https://localhost:8080/",
          "height": 452
        },
        "outputId": "4c68aa3a-cdcc-4288-c722-f3916423a8c3"
      },
      "outputs": [
        {
          "output_type": "display_data",
          "data": {
            "text/plain": [
              "<Figure size 640x480 with 1 Axes>"
            ],
            "image/png": "[encoded data removed]"
          },
          "metadata": {}
        }
      ],
      "source": [
        "jobs_df.experience.value_counts().head(10).sort_values().plot.barh(title='Количество вакансий')\n",
        "plt.show()"
      ]
    },
    {
      "cell_type": "code",
      "execution_count": 8,
      "metadata": {
        "id": "H11czrVpJM_I",
        "colab": {
          "base_uri": "https://localhost:8080/"
        },
        "outputId": "4f4bba52-2014-41fc-a20c-3224c5421b88"
      },
      "outputs": [
        {
          "output_type": "stream",
          "name": "stdout",
          "text": [
            "Количество вакансий с указанной зарплатой 148\n",
            "Доля вакансий с указанной зарплатой 0.14\n"
          ]
        }
      ],
      "source": [
        "print('Количество вакансий с указанной зарплатой', (~jobs_df.average_salary.isna()).sum())\n",
        "print('Доля вакансий с указанной зарплатой', format((~jobs_df.average_salary.isna()).mean(), '.2f'))"
      ]
    },
    {
      "cell_type": "code",
      "execution_count": 9,
      "metadata": {
        "id": "fg2v0TriLHM9",
        "colab": {
          "base_uri": "https://localhost:8080/",
          "height": 452
        },
        "outputId": "6a90646b-1d57-452f-cbd0-c13487bb4aa0"
      },
      "outputs": [
        {
          "output_type": "display_data",
          "data": {
            "text/plain": [
              "<Figure size 640x480 with 1 Axes>"
            ],
            "image/png": "[encoded data removed]"
          },
          "metadata": {}
        }
      ],
      "source": [
        "jobs_df.professional_roles.value_counts().head(5).sort_values().plot.barh(title='Количество вакансий')\n",
        "plt.show()"
      ]
    },
    {
      "cell_type": "code",
      "execution_count": 10,
      "metadata": {
        "id": "nsvvS6iGZUYs",
        "colab": {
          "base_uri": "https://localhost:8080/",
          "height": 711
        },
        "outputId": "adfa3e45-72d5-420d-eab5-2889376d6b15"
      },
      "outputs": [
        {
          "output_type": "execute_result",
          "data": {
            "text/plain": [
              "data           412\n",
              "engineer       296\n",
              "scientist      261\n",
              "ml             182\n",
              "senior         133\n",
              "в              122\n",
              "               110\n",
              "python          80\n",
              "данных          78\n",
              "middle          77\n",
              "аналитик        77\n",
              "разработчик     57\n",
              "mlинженер       55\n",
              "команду         52\n",
              "lead            51\n",
              "analyst         50\n",
              "developer       46\n",
              "learning        42\n",
              "инженер         39\n",
              "machine         38\n",
              "Name: count, dtype: int64"
            ],
            "text/html": [
              "<div>\n",
              "<style scoped>\n",
              "    .dataframe tbody tr th:only-of-type {\n",
              "        vertical-align: middle;\n",
              "    }\n",
              "\n",
              "    .dataframe tbody tr th {\n",
              "        vertical-align: top;\n",
              "    }\n",
              "\n",
              "    .dataframe thead th {\n",
              "        text-align: right;\n",
              "    }\n",
              "</style>\n",
              "<table border=\"1\" class=\"dataframe\">\n",
              "  <thead>\n",
              "    <tr style=\"text-align: right;\">\n",
              "      <th></th>\n",
              "      <th>count</th>\n",
              "    </tr>\n",
              "  </thead>\n",
              "  <tbody>\n",
              "    <tr>\n",
              "      <th>data</th>\n",
              "      <td>412</td>\n",
              "    </tr>\n",
              "    <tr>\n",
              "      <th>engineer</th>\n",
              "      <td>296</td>\n",
              "    </tr>\n",
              "    <tr>\n",
              "      <th>scientist</th>\n",
              "      <td>261</td>\n",
              "    </tr>\n",
              "    <tr>\n",
              "      <th>ml</th>\n",
              "      <td>182</td>\n",
              "    </tr>\n",
              "    <tr>\n",
              "      <th>senior</th>\n",
              "      <td>133</td>\n",
              "    </tr>\n",
              "    <tr>\n",
              "      <th>в</th>\n",
              "      <td>122</td>\n",
              "    </tr>\n",
              "    <tr>\n",
              "      <th></th>\n",
              "      <td>110</td>\n",
              "    </tr>\n",
              "    <tr>\n",
              "      <th>python</th>\n",
              "      <td>80</td>\n",
              "    </tr>\n",
              "    <tr>\n",
              "      <th>данных</th>\n",
              "      <td>78</td>\n",
              "    </tr>\n",
              "    <tr>\n",
              "      <th>middle</th>\n",
              "      <td>77</td>\n",
              "    </tr>\n",
              "    <tr>\n",
              "      <th>аналитик</th>\n",
              "      <td>77</td>\n",
              "    </tr>\n",
              "    <tr>\n",
              "      <th>разработчик</th>\n",
              "      <td>57</td>\n",
              "    </tr>\n",
              "    <tr>\n",
              "      <th>mlинженер</th>\n",
              "      <td>55</td>\n",
              "    </tr>\n",
              "    <tr>\n",
              "      <th>команду</th>\n",
              "      <td>52</td>\n",
              "    </tr>\n",
              "    <tr>\n",
              "      <th>lead</th>\n",
              "      <td>51</td>\n",
              "    </tr>\n",
              "    <tr>\n",
              "      <th>analyst</th>\n",
              "      <td>50</td>\n",
              "    </tr>\n",
              "    <tr>\n",
              "      <th>developer</th>\n",
              "      <td>46</td>\n",
              "    </tr>\n",
              "    <tr>\n",
              "      <th>learning</th>\n",
              "      <td>42</td>\n",
              "    </tr>\n",
              "    <tr>\n",
              "      <th>инженер</th>\n",
              "      <td>39</td>\n",
              "    </tr>\n",
              "    <tr>\n",
              "      <th>machine</th>\n",
              "      <td>38</td>\n",
              "    </tr>\n",
              "  </tbody>\n",
              "</table>\n",
              "</div><br><label><b>dtype:</b> int64</label>"
            ]
          },
          "metadata": {},
          "execution_count": 10
        }
      ],
      "source": [
        "functions.flatten_series(jobs_df.name.str.lower().str.split())\\\n",
        ".apply(lambda el: ''.join(char for char in el if char.isalnum()))\\\n",
        ".value_counts().head(20)"
      ]
    },
    {
      "cell_type": "code",
      "execution_count": 11,
      "metadata": {
        "id": "-bG3OTDdSUmY"
      },
      "outputs": [],
      "source": [
        "jobs_df['grade'] = jobs_df['name']\\\n",
        ".apply(lambda el: 'lead' if 'lead' in el.lower()\n",
        "else 'middle_plus' if ('middle' in el.lower() and 'senior' in el.lower()) or 'middle+' in el.lower()\n",
        "else 'senior' if 'senior' in el.lower()\n",
        "else 'middle' if 'middle' in el.lower()\n",
        "else 'junior' if 'junior' in el.lower()\n",
        "else 'intern' if 'intern' in el.lower() or 'стажёр' in el.lower() or 'стажер' in el.lower()\n",
        "else None)"
      ]
    },
    {
      "cell_type": "code",
      "execution_count": 12,
      "metadata": {
        "id": "UyZygoN-TJKj",
        "colab": {
          "base_uri": "https://localhost:8080/",
          "height": 452
        },
        "outputId": "b421b424-e3e2-49d5-962e-9667411b9b9b"
      },
      "outputs": [
        {
          "output_type": "display_data",
          "data": {
            "text/plain": [
              "<Figure size 640x480 with 1 Axes>"
            ],
            "image/png": "[encoded data removed]"
          },
          "metadata": {}
        }
      ],
      "source": [
        "jobs_df.grade.value_counts()\\\n",
        ".loc[['intern',\n",
        "      'junior',\n",
        "      'middle',\n",
        "      'middle_plus',\n",
        "      'senior',\n",
        "      'lead']].plot.barh(title='Количество вакансий')\n",
        "plt.show()"
      ]
    },
    {
      "cell_type": "code",
      "execution_count": 13,
      "metadata": {
        "id": "XcLgUNnnT3MS"
      },
      "outputs": [],
      "source": [
        "jobs_df_f = jobs_df[~jobs_df['average_salary'].isna()]"
      ]
    },
    {
      "cell_type": "code",
      "execution_count": 14,
      "metadata": {
        "id": "X8DZEKI-UjYf"
      },
      "outputs": [],
      "source": [
        "X = jobs_df_f.drop(['average_salary', 'address', 'snippet', 'key_skills', 'min_salary',\t'max_salary', 'hours_since_publication'], axis=1)\n",
        "y = jobs_df_f['average_salary']\n",
        "\n",
        "X_train, X_test, y_train, y_test = train_test_split(X, y, test_size=0.2, random_state=42)"
      ]
    },
    {
      "cell_type": "code",
      "execution_count": null,
      "metadata": {
        "collapsed": true,
        "id": "2pKyl3HJV87e"
      },
      "outputs": [],
      "source": [
        "!pip install catboost\n",
        "import catboost as cb\n",
        "from sklearn.model_selection import cross_val_predict"
      ]
    },
    {
      "cell_type": "code",
      "execution_count": 16,
      "metadata": {
        "id": "TlNMmbGS1fOM",
        "colab": {
          "base_uri": "https://localhost:8080/"
        },
        "outputId": "7845b1d1-9838-44aa-e0a0-db2e73ccabc3"
      },
      "outputs": [
        {
          "output_type": "stream",
          "name": "stdout",
          "text": [
            "Лучшие параметры: {'depth': 4, 'iterations': 100, 'l2_leaf_reg': 11, 'learning_rate': 0.1}\n",
            "MAE лучшей модели: 104069.1403475359\n"
          ]
        },
        {
          "output_type": "stream",
          "name": "stderr",
          "text": [
            "/usr/local/lib/python3.10/dist-packages/numpy/ma/core.py:2820: RuntimeWarning: invalid value encountered in cast\n",
            "  _data = np.array(data, dtype=dtype, copy=copy,\n"
          ]
        }
      ],
      "source": [
        "param_grid = {\n",
        "    'iterations': [50, 100],\n",
        "    'depth': [4, 10],\n",
        "    'learning_rate': [0.01, 0.05, 0.1],\n",
        "    'l2_leaf_reg': [5, 7, 9, 11]\n",
        "}\n",
        "\n",
        "model = cb.CatBoostRegressor(cat_features=X.columns.tolist(), silent=True)\n",
        "\n",
        "grid_search = GridSearchCV(model, param_grid, cv=4, scoring='neg_mean_absolute_error')\n",
        "grid_search.fit(X_train.fillna('-'), y_train)\n",
        "\n",
        "best_model = grid_search.best_estimator_\n",
        "print('Лучшие параметры:', grid_search.best_params_)\n",
        "print('MAE лучшей модели:', -grid_search.best_score_)\n"
      ]
    },
    {
      "cell_type": "code",
      "execution_count": 17,
      "metadata": {
        "id": "xJO1INyQWYFg"
      },
      "outputs": [],
      "source": [
        "model = cb.CatBoostRegressor(cat_features=X.columns.tolist(), silent=True, iterations=100, depth=8)\n",
        "y_pred = cross_val_predict(model, X_train.fillna('-'), y_train, cv=42)\n",
        "model.fit(X_train.fillna('-'), y_train)\n",
        "y_pred_test = model.predict(X_test.fillna('-'))"
      ]
    },
    {
      "cell_type": "code",
      "execution_count": 18,
      "metadata": {
        "id": "8-UT7--0pQn3",
        "colab": {
          "base_uri": "https://localhost:8080/"
        },
        "outputId": "7527b671-8c2e-4366-d389-8102586bf67d"
      },
      "outputs": [
        {
          "output_type": "stream",
          "name": "stdout",
          "text": [
            "r2 0.39777703252563446\n",
            "mape 1.2416629888440898\n"
          ]
        }
      ],
      "source": [
        "print('r2', r2_score(y_train, y_pred))\n",
        "print('mape', mape(y_train, y_pred))"
      ]
    },
    {
      "cell_type": "code",
      "execution_count": 19,
      "metadata": {
        "id": "AXKt__9Ug5TG",
        "colab": {
          "base_uri": "https://localhost:8080/"
        },
        "outputId": "ff7d7867-bdb1-4221-cf18-beae48485927"
      },
      "outputs": [
        {
          "output_type": "stream",
          "name": "stdout",
          "text": [
            "r2 -0.8756581398938277\n",
            "mape 1.0617422204783062\n"
          ]
        }
      ],
      "source": [
        "print('r2', r2_score(y_test, y_pred_test))\n",
        "print('mape', mape(y_test, y_pred_test))"
      ]
    },
    {
      "cell_type": "code",
      "execution_count": 20,
      "metadata": {
        "id": "kCs64tB7pcnS",
        "colab": {
          "base_uri": "https://localhost:8080/"
        },
        "outputId": "6926a1ae-882a-4365-edf7-26a66ddacc19"
      },
      "outputs": [
        {
          "output_type": "execute_result",
          "data": {
            "text/plain": [
              "<catboost.core.CatBoostRegressor at 0x7ff5fc0d9bd0>"
            ]
          },
          "metadata": {},
          "execution_count": 20
        }
      ],
      "source": [
        "model = cb.CatBoostRegressor(cat_features=X_train.columns.tolist(), silent=True, iterations=1000, depth=8)\n",
        "model.fit(X_train.fillna('-'), y_train)"
      ]
    },
    {
      "cell_type": "code",
      "execution_count": 21,
      "metadata": {
        "id": "W1qqF0i5gP1r",
        "colab": {
          "base_uri": "https://localhost:8080/",
          "height": 488
        },
        "outputId": "e96e9ba3-6f7e-4142-b2c6-a75f8fbe3f17"
      },
      "outputs": [
        {
          "output_type": "execute_result",
          "data": {
            "text/plain": [
              "                     feature  importance\n",
              "11                experience          35\n",
              "7                   schedule          16\n",
              "13                     grade          14\n",
              "10        professional_roles          10\n",
              "5                       area          10\n",
              "2                 department           7\n",
              "8     working_time_intervals           4\n",
              "6                   employer           2\n",
              "9           accept_temporary           1\n",
              "1                       name           1\n",
              "12                employment           0\n",
              "3                   has_test           0\n",
              "0                    premium           0\n",
              "4   response_letter_required           0"
            ],
            "text/html": [
              "\n",
              "  <div id=\"df-6d67eeb5-f271-4748-a5e6-47a9a97afac1\" class=\"colab-df-container\">\n",
              "    <div>\n",
              "<style scoped>\n",
              "    .dataframe tbody tr th:only-of-type {\n",
              "        vertical-align: middle;\n",
              "    }\n",
              "\n",
              "    .dataframe tbody tr th {\n",
              "        vertical-align: top;\n",
              "    }\n",
              "\n",
              "    .dataframe thead th {\n",
              "        text-align: right;\n",
              "    }\n",
              "</style>\n",
              "<table border=\"1\" class=\"dataframe\">\n",
              "  <thead>\n",
              "    <tr style=\"text-align: right;\">\n",
              "      <th></th>\n",
              "      <th>feature</th>\n",
              "      <th>importance</th>\n",
              "    </tr>\n",
              "  </thead>\n",
              "  <tbody>\n",
              "    <tr>\n",
              "      <th>11</th>\n",
              "      <td>experience</td>\n",
              "      <td>35</td>\n",
              "    </tr>\n",
              "    <tr>\n",
              "      <th>7</th>\n",
              "      <td>schedule</td>\n",
              "      <td>16</td>\n",
              "    </tr>\n",
              "    <tr>\n",
              "      <th>13</th>\n",
              "      <td>grade</td>\n",
              "      <td>14</td>\n",
              "    </tr>\n",
              "    <tr>\n",
              "      <th>10</th>\n",
              "      <td>professional_roles</td>\n",
              "      <td>10</td>\n",
              "    </tr>\n",
              "    <tr>\n",
              "      <th>5</th>\n",
              "      <td>area</td>\n",
              "      <td>10</td>\n",
              "    </tr>\n",
              "    <tr>\n",
              "      <th>2</th>\n",
              "      <td>department</td>\n",
              "      <td>7</td>\n",
              "    </tr>\n",
              "    <tr>\n",
              "      <th>8</th>\n",
              "      <td>working_time_intervals</td>\n",
              "      <td>4</td>\n",
              "    </tr>\n",
              "    <tr>\n",
              "      <th>6</th>\n",
              "      <td>employer</td>\n",
              "      <td>2</td>\n",
              "    </tr>\n",
              "    <tr>\n",
              "      <th>9</th>\n",
              "      <td>accept_temporary</td>\n",
              "      <td>1</td>\n",
              "    </tr>\n",
              "    <tr>\n",
              "      <th>1</th>\n",
              "      <td>name</td>\n",
              "      <td>1</td>\n",
              "    </tr>\n",
              "    <tr>\n",
              "      <th>12</th>\n",
              "      <td>employment</td>\n",
              "      <td>0</td>\n",
              "    </tr>\n",
              "    <tr>\n",
              "      <th>3</th>\n",
              "      <td>has_test</td>\n",
              "      <td>0</td>\n",
              "    </tr>\n",
              "    <tr>\n",
              "      <th>0</th>\n",
              "      <td>premium</td>\n",
              "      <td>0</td>\n",
              "    </tr>\n",
              "    <tr>\n",
              "      <th>4</th>\n",
              "      <td>response_letter_required</td>\n",
              "      <td>0</td>\n",
              "    </tr>\n",
              "  </tbody>\n",
              "</table>\n",
              "</div>\n",
              "    <div class=\"colab-df-buttons\">\n",
              "\n",
              "  <div class=\"colab-df-container\">\n",
              "    <button class=\"colab-df-convert\" onclick=\"convertToInteractive('df-6d67eeb5-f271-4748-a5e6-47a9a97afac1')\"\n",
              "            title=\"Convert this dataframe to an interactive table.\"\n",
              "            style=\"display:none;\">\n",
              "\n",
              "  <svg xmlns=\"http://www.w3.org/2000/svg\" height=\"24px\" viewBox=\"0 -960 960 960\">\n",
              "    <path d=\"M120-120v-720h720v720H120Zm60-500h600v-160H180v160Zm220 220h160v-160H400v160Zm0 220h160v-160H400v160ZM180-400h160v-160H180v160Zm440 0h160v-160H620v160ZM180-180h160v-160H180v160Zm440 0h160v-160H620v160Z\"/>\n",
              "  </svg>\n",
              "    </button>\n",
              "\n",
              "  <style>\n",
              "    .colab-df-container {\n",
              "      display:flex;\n",
              "      gap: 12px;\n",
              "    }\n",
              "\n",
              "    .colab-df-convert {\n",
              "      background-color: #E8F0FE;\n",
              "      border: none;\n",
              "      border-radius: 50%;\n",
              "      cursor: pointer;\n",
              "      display: none;\n",
              "      fill: #1967D2;\n",
              "      height: 32px;\n",
              "      padding: 0 0 0 0;\n",
              "      width: 32px;\n",
              "    }\n",
              "\n",
              "    .colab-df-convert:hover {\n",
              "      background-color: #E2EBFA;\n",
              "      box-shadow: 0px 1px 2px rgba(60, 64, 67, 0.3), 0px 1px 3px 1px rgba(60, 64, 67, 0.15);\n",
              "      fill: #174EA6;\n",
              "    }\n",
              "\n",
              "    .colab-df-buttons div {\n",
              "      margin-bottom: 4px;\n",
              "    }\n",
              "\n",
              "    [theme=dark] .colab-df-convert {\n",
              "      background-color: #3B4455;\n",
              "      fill: #D2E3FC;\n",
              "    }\n",
              "\n",
              "    [theme=dark] .colab-df-convert:hover {\n",
              "      background-color: #434B5C;\n",
              "      box-shadow: 0px 1px 3px 1px rgba(0, 0, 0, 0.15);\n",
              "      filter: drop-shadow(0px 1px 2px rgba(0, 0, 0, 0.3));\n",
              "      fill: #FFFFFF;\n",
              "    }\n",
              "  </style>\n",
              "\n",
              "    <script>\n",
              "      const buttonEl =\n",
              "        document.querySelector('#df-6d67eeb5-f271-4748-a5e6-47a9a97afac1 button.colab-df-convert');\n",
              "      buttonEl.style.display =\n",
              "        google.colab.kernel.accessAllowed ? 'block' : 'none';\n",
              "\n",
              "      async function convertToInteractive(key) {\n",
              "        const element = document.querySelector('#df-6d67eeb5-f271-4748-a5e6-47a9a97afac1');\n",
              "        const dataTable =\n",
              "          await google.colab.kernel.invokeFunction('convertToInteractive',\n",
              "                                                    [key], {});\n",
              "        if (!dataTable) return;\n",
              "\n",
              "        const docLinkHtml = 'Like what you see? Visit the ' +\n",
              "          '<a target=\"_blank\" href=https://colab.research.google.com/notebooks/data_table.ipynb>data table notebook</a>'\n",
              "          + ' to learn more about interactive tables.';\n",
              "        element.innerHTML = '';\n",
              "        dataTable['output_type'] = 'display_data';\n",
              "        await google.colab.output.renderOutput(dataTable, element);\n",
              "        const docLink = document.createElement('div');\n",
              "        docLink.innerHTML = docLinkHtml;\n",
              "        element.appendChild(docLink);\n",
              "      }\n",
              "    </script>\n",
              "  </div>\n",
              "\n",
              "\n",
              "<div id=\"df-15a4450e-6df7-46f4-87ff-2bbfa88e537b\">\n",
              "  <button class=\"colab-df-quickchart\" onclick=\"quickchart('df-15a4450e-6df7-46f4-87ff-2bbfa88e537b')\"\n",
              "            title=\"Suggest charts\"\n",
              "            style=\"display:none;\">\n",
              "\n",
              "<svg xmlns=\"http://www.w3.org/2000/svg\" height=\"24px\"viewBox=\"0 0 24 24\"\n",
              "     width=\"24px\">\n",
              "    <g>\n",
              "        <path d=\"M19 3H5c-1.1 0-2 .9-2 2v14c0 1.1.9 2 2 2h14c1.1 0 2-.9 2-2V5c0-1.1-.9-2-2-2zM9 17H7v-7h2v7zm4 0h-2V7h2v10zm4 0h-2v-4h2v4z\"/>\n",
              "    </g>\n",
              "</svg>\n",
              "  </button>\n",
              "\n",
              "<style>\n",
              "  .colab-df-quickchart {\n",
              "      --bg-color: #E8F0FE;\n",
              "      --fill-color: #1967D2;\n",
              "      --hover-bg-color: #E2EBFA;\n",
              "      --hover-fill-color: #174EA6;\n",
              "      --disabled-fill-color: #AAA;\n",
              "      --disabled-bg-color: #DDD;\n",
              "  }\n",
              "\n",
              "  [theme=dark] .colab-df-quickchart {\n",
              "      --bg-color: #3B4455;\n",
              "      --fill-color: #D2E3FC;\n",
              "      --hover-bg-color: #434B5C;\n",
              "      --hover-fill-color: #FFFFFF;\n",
              "      --disabled-bg-color: #3B4455;\n",
              "      --disabled-fill-color: #666;\n",
              "  }\n",
              "\n",
              "  .colab-df-quickchart {\n",
              "    background-color: var(--bg-color);\n",
              "    border: none;\n",
              "    border-radius: 50%;\n",
              "    cursor: pointer;\n",
              "    display: none;\n",
              "    fill: var(--fill-color);\n",
              "    height: 32px;\n",
              "    padding: 0;\n",
              "    width: 32px;\n",
              "  }\n",
              "\n",
              "  .colab-df-quickchart:hover {\n",
              "    background-color: var(--hover-bg-color);\n",
              "    box-shadow: 0 1px 2px rgba(60, 64, 67, 0.3), 0 1px 3px 1px rgba(60, 64, 67, 0.15);\n",
              "    fill: var(--button-hover-fill-color);\n",
              "  }\n",
              "\n",
              "  .colab-df-quickchart-complete:disabled,\n",
              "  .colab-df-quickchart-complete:disabled:hover {\n",
              "    background-color: var(--disabled-bg-color);\n",
              "    fill: var(--disabled-fill-color);\n",
              "    box-shadow: none;\n",
              "  }\n",
              "\n",
              "  .colab-df-spinner {\n",
              "    border: 2px solid var(--fill-color);\n",
              "    border-color: transparent;\n",
              "    border-bottom-color: var(--fill-color);\n",
              "    animation:\n",
              "      spin 1s steps(1) infinite;\n",
              "  }\n",
              "\n",
              "  @keyframes spin {\n",
              "    0% {\n",
              "      border-color: transparent;\n",
              "      border-bottom-color: var(--fill-color);\n",
              "      border-left-color: var(--fill-color);\n",
              "    }\n",
              "    20% {\n",
              "      border-color: transparent;\n",
              "      border-left-color: var(--fill-color);\n",
              "      border-top-color: var(--fill-color);\n",
              "    }\n",
              "    30% {\n",
              "      border-color: transparent;\n",
              "      border-left-color: var(--fill-color);\n",
              "      border-top-color: var(--fill-color);\n",
              "      border-right-color: var(--fill-color);\n",
              "    }\n",
              "    40% {\n",
              "      border-color: transparent;\n",
              "      border-right-color: var(--fill-color);\n",
              "      border-top-color: var(--fill-color);\n",
              "    }\n",
              "    60% {\n",
              "      border-color: transparent;\n",
              "      border-right-color: var(--fill-color);\n",
              "    }\n",
              "    80% {\n",
              "      border-color: transparent;\n",
              "      border-right-color: var(--fill-color);\n",
              "      border-bottom-color: var(--fill-color);\n",
              "    }\n",
              "    90% {\n",
              "      border-color: transparent;\n",
              "      border-bottom-color: var(--fill-color);\n",
              "    }\n",
              "  }\n",
              "</style>\n",
              "\n",
              "  <script>\n",
              "    async function quickchart(key) {\n",
              "      const quickchartButtonEl =\n",
              "        document.querySelector('#' + key + ' button');\n",
              "      quickchartButtonEl.disabled = true;  // To prevent multiple clicks.\n",
              "      quickchartButtonEl.classList.add('colab-df-spinner');\n",
              "      try {\n",
              "        const charts = await google.colab.kernel.invokeFunction(\n",
              "            'suggestCharts', [key], {});\n",
              "      } catch (error) {\n",
              "        console.error('Error during call to suggestCharts:', error);\n",
              "      }\n",
              "      quickchartButtonEl.classList.remove('colab-df-spinner');\n",
              "      quickchartButtonEl.classList.add('colab-df-quickchart-complete');\n",
              "    }\n",
              "    (() => {\n",
              "      let quickchartButtonEl =\n",
              "        document.querySelector('#df-15a4450e-6df7-46f4-87ff-2bbfa88e537b button');\n",
              "      quickchartButtonEl.style.display =\n",
              "        google.colab.kernel.accessAllowed ? 'block' : 'none';\n",
              "    })();\n",
              "  </script>\n",
              "</div>\n",
              "    </div>\n",
              "  </div>\n"
            ],
            "application/vnd.google.colaboratory.intrinsic+json": {
              "type": "dataframe",
              "summary": "{\n  \"name\": \"\",\n  \"rows\": 14,\n  \"fields\": [\n    {\n      \"column\": \"feature\",\n      \"properties\": {\n        \"dtype\": \"string\",\n        \"num_unique_values\": 14,\n        \"samples\": [\n          \"name\",\n          \"has_test\",\n          \"experience\"\n        ],\n        \"semantic_type\": \"\",\n        \"description\": \"\"\n      }\n    },\n    {\n      \"column\": \"importance\",\n      \"properties\": {\n        \"dtype\": \"number\",\n        \"std\": 9.663995825555276,\n        \"min\": 0.0,\n        \"max\": 34.5329750892206,\n        \"num_unique_values\": 13,\n        \"samples\": [\n          0.14091586465432995,\n          0.690247562997393,\n          34.5329750892206\n        ],\n        \"semantic_type\": \"\",\n        \"description\": \"\"\n      }\n    }\n  ]\n}"
            }
          },
          "metadata": {},
          "execution_count": 21
        }
      ],
      "source": [
        "pd.DataFrame({'feature': model.feature_names_, 'importance': model.feature_importances_})\\\n",
        ".sort_values(by='importance', ascending=False)"
      ]
    },
    {
      "cell_type": "code",
      "execution_count": 22,
      "metadata": {
        "id": "bHAmiuKpifdn"
      },
      "outputs": [],
      "source": [
        "X_train.drop(['premium', 'name', 'has_test', 'response_letter_required', 'working_time_intervals', 'employer'], axis=1, inplace=True)\n",
        "X_test.drop(['premium', 'name', 'has_test', 'response_letter_required', 'working_time_intervals', 'employer'], axis=1, inplace=True)"
      ]
    },
    {
      "cell_type": "code",
      "execution_count": 23,
      "metadata": {
        "id": "xbPy3M-qqHuz",
        "colab": {
          "base_uri": "https://localhost:8080/"
        },
        "outputId": "f410bcd9-5b2f-4275-ed8f-9b39317acc6a"
      },
      "outputs": [
        {
          "output_type": "stream",
          "name": "stdout",
          "text": [
            "r2 0.31435854281704323\n",
            "mape 1.1413285309602863\n"
          ]
        }
      ],
      "source": [
        "model = cb.CatBoostRegressor(cat_features=X_train.columns.tolist(), silent=True, depth = 4, iterations = 100, l2_leaf_reg = 11, learning_rate = 0.1)\n",
        "y_pred = cross_val_predict(model, X_train.fillna('-'), y_train, cv=4)\n",
        "print('r2', r2_score(y_train, y_pred))\n",
        "print('mape', mape(y_train, y_pred))"
      ]
    },
    {
      "cell_type": "code",
      "execution_count": 24,
      "metadata": {
        "id": "gfULExFNhctg",
        "colab": {
          "base_uri": "https://localhost:8080/",
          "height": 53,
          "referenced_widgets": [
            "9bc996b0133442a286b810a162e9527f"
          ]
        },
        "outputId": "6cffeb29-c538-4deb-83f8-c136dfa3ad6e"
      },
      "outputs": [
        {
          "output_type": "display_data",
          "data": {
            "text/plain": [
              "MetricVisualizer(layout=Layout(align_self='stretch', height='500px'))"
            ],
            "application/vnd.jupyter.widget-view+json": {
              "version_major": 2,
              "version_minor": 0,
              "model_id": "9bc996b0133442a286b810a162e9527f"
            }
          },
          "metadata": {}
        },
        {
          "output_type": "stream",
          "name": "stdout",
          "text": [
            "r2 -0.46429805635394117\n",
            "mape 0.9203469706453189\n"
          ]
        }
      ],
      "source": [
        "model.fit(X_train.fillna('-'), y_train, plot=True)\n",
        "y_pred_test = model.predict(X_test.fillna('-'))\n",
        "print('r2', r2_score(y_test, y_pred_test))\n",
        "print('mape', mape(y_test, y_pred_test))"
      ]
    },
    {
      "cell_type": "code",
      "source": [
        "depths = [3, 4, 5, 6, 7, 8]\n",
        "train_errors = []\n",
        "test_errors = []\n",
        "\n",
        "for depth in depths:\n",
        "    model = cb.CatBoostRegressor(\n",
        "        cat_features=X_train.columns.tolist(),\n",
        "        silent=True,\n",
        "        depth=depth,\n",
        "        iterations=100,\n",
        "        l2_leaf_reg=11,\n",
        "        learning_rate=0.1\n",
        "    )\n",
        "    model.fit(X_train.fillna('-'), y_train)\n",
        "    train_pred = model.predict(X_train.fillna('-'))\n",
        "    train_errors.append(mae(y_train, train_pred))\n",
        "\n",
        "    test_pred = model.predict(X_test.fillna('-'))\n",
        "    test_errors.append(mae(y_test, test_pred))\n",
        "\n",
        "plt.figure(figsize=(10, 6))\n",
        "plt.plot(depths, train_errors, label='Train MAE', marker='o')\n",
        "plt.plot(depths, test_errors, label='Test MAE', marker='o')\n",
        "plt.xlabel(\"Tree Depth\")\n",
        "plt.ylabel(\"Mean Absolute Error\")\n",
        "plt.legend()\n",
        "plt.grid()\n",
        "plt.show()"
      ],
      "metadata": {
        "id": "m_iFzvfRYbVa",
        "colab": {
          "base_uri": "https://localhost:8080/",
          "height": 482
        },
        "outputId": "931e35ef-cbc9-46c8-af15-2c58f3e2dad8"
      },
      "execution_count": 34,
      "outputs": [
        {
          "output_type": "display_data",
          "data": {
            "text/plain": [
              "<Figure size 1000x600 with 1 Axes>"
            ],
            "image/png": "[encoded data removed]"
          },
          "metadata": {}
        }
      ]
    },
    {
      "cell_type": "code",
      "execution_count": 26,
      "metadata": {
        "id": "wiA-fSGwOFcl",
        "colab": {
          "base_uri": "https://localhost:8080/"
        },
        "outputId": "5672941c-3063-45f2-d341-c8ce55ab0c87"
      },
      "outputs": [
        {
          "output_type": "execute_result",
          "data": {
            "text/plain": [
              "<catboost.core.CatBoostRegressor at 0x7ff60d19f340>"
            ]
          },
          "metadata": {},
          "execution_count": 26
        }
      ],
      "source": [
        "model = cb.CatBoostRegressor(cat_features=X_train.columns.tolist(), silent=True)\n",
        "model.fit(X_train.fillna('-'), y_train)"
      ]
    },
    {
      "cell_type": "code",
      "execution_count": 27,
      "metadata": {
        "id": "AIyRSO9gIQsn"
      },
      "outputs": [],
      "source": [
        "jobs_dummies = jobs_df[X_train.columns].fillna('-')\n",
        "jobs_dummies_f = X_train.fillna('-')"
      ]
    },
    {
      "cell_type": "code",
      "execution_count": 28,
      "metadata": {
        "id": "JMthn9lTNOFx"
      },
      "outputs": [],
      "source": [
        "jobs_df['predict_salary'] = model.predict(jobs_dummies[jobs_dummies_f.columns]).astype(int)"
      ]
    },
    {
      "cell_type": "code",
      "execution_count": 29,
      "metadata": {
        "id": "aoKGINiXOs3-",
        "colab": {
          "base_uri": "https://localhost:8080/",
          "height": 641
        },
        "outputId": "7775bbfd-8c28-4271-d92c-71a7411668aa"
      },
      "outputs": [
        {
          "output_type": "execute_result",
          "data": {
            "text/plain": [
              "<function matplotlib.pyplot.show(close=None, block=None)>"
            ],
            "text/html": [
              "<div style=\"max-width:800px; border: 1px solid var(--colab-border-color);\"><style>\n",
              "      pre.function-repr-contents {\n",
              "        overflow-x: auto;\n",
              "        padding: 8px 12px;\n",
              "        max-height: 500px;\n",
              "      }\n",
              "\n",
              "      pre.function-repr-contents.function-repr-contents-collapsed {\n",
              "        cursor: pointer;\n",
              "        max-height: 100px;\n",
              "      }\n",
              "    </style>\n",
              "    <pre style=\"white-space: initial; background:\n",
              "         var(--colab-secondary-surface-color); padding: 8px 12px;\n",
              "         border-bottom: 1px solid var(--colab-border-color);\"><b>matplotlib.pyplot.show</b><br/>def show(*args, **kwargs)</pre><pre class=\"function-repr-contents function-repr-contents-collapsed\" style=\"\"><a class=\"filepath\" style=\"display:none\" href=\"#\">/usr/local/lib/python3.10/dist-packages/matplotlib/pyplot.py</a>Display all open figures.\n",
              "\n",
              "Parameters\n",
              "----------\n",
              "block : bool, optional\n",
              "    Whether to wait for all figures to be closed before returning.\n",
              "\n",
              "    If `True` block and run the GUI main loop until all figure windows\n",
              "    are closed.\n",
              "\n",
              "    If `False` ensure that all figure windows are displayed and return\n",
              "    immediately.  In this case, you are responsible for ensuring\n",
              "    that the event loop is running to have responsive figures.\n",
              "\n",
              "    Defaults to True in non-interactive mode and to False in interactive\n",
              "    mode (see `.pyplot.isinteractive`).\n",
              "\n",
              "See Also\n",
              "--------\n",
              "ion : Enable interactive mode, which shows / updates the figure after\n",
              "      every plotting command, so that calling ``show()`` is not necessary.\n",
              "ioff : Disable interactive mode.\n",
              "savefig : Save the figure to an image file instead of showing it on screen.\n",
              "\n",
              "Notes\n",
              "-----\n",
              "**Saving figures to file and showing a window at the same time**\n",
              "\n",
              "If you want an image file as well as a user interface window, use\n",
              "`.pyplot.savefig` before `.pyplot.show`. At the end of (a blocking)\n",
              "``show()`` the figure is closed and thus unregistered from pyplot. Calling\n",
              "`.pyplot.savefig` afterwards would save a new and thus empty figure. This\n",
              "limitation of command order does not apply if the show is non-blocking or\n",
              "if you keep a reference to the figure and use `.Figure.savefig`.\n",
              "\n",
              "**Auto-show in jupyter notebooks**\n",
              "\n",
              "The jupyter backends (activated via ``%matplotlib inline``,\n",
              "``%matplotlib notebook``, or ``%matplotlib widget``), call ``show()`` at\n",
              "the end of every cell by default. Thus, you usually don&#x27;t have to call it\n",
              "explicitly there.</pre>\n",
              "      <script>\n",
              "      if (google.colab.kernel.accessAllowed && google.colab.files && google.colab.files.view) {\n",
              "        for (const element of document.querySelectorAll('.filepath')) {\n",
              "          element.style.display = 'block'\n",
              "          element.onclick = (event) => {\n",
              "            event.preventDefault();\n",
              "            event.stopPropagation();\n",
              "            google.colab.files.view(element.textContent, 482);\n",
              "          };\n",
              "        }\n",
              "      }\n",
              "      for (const element of document.querySelectorAll('.function-repr-contents')) {\n",
              "        element.onclick = (event) => {\n",
              "          event.preventDefault();\n",
              "          event.stopPropagation();\n",
              "          element.classList.toggle('function-repr-contents-collapsed');\n",
              "        };\n",
              "      }\n",
              "      </script>\n",
              "      </div>"
            ]
          },
          "metadata": {},
          "execution_count": 29
        },
        {
          "output_type": "display_data",
          "data": {
            "text/plain": [
              "<Figure size 640x480 with 1 Axes>"
            ],
            "image/png": "[encoded data removed]"
          },
          "metadata": {}
        }
      ],
      "source": [
        "hist = sns.histplot(jobs_df['predict_salary'])\n",
        "hist.set(title=\"Распределение зарплат\")\n",
        "\n",
        "import matplotlib.ticker as mtick\n",
        "hist.xaxis.set_major_formatter(mtick.FuncFormatter(lambda x, _: f'{int(x):,}')) # в начале зарплаты почему-то вывелись в формате 2.893174e+05, так что добавил такую обработку\n",
        "plt.show"
      ]
    },
    {
      "cell_type": "code",
      "execution_count": 30,
      "metadata": {
        "id": "bhtRv7OKPMWo",
        "colab": {
          "base_uri": "https://localhost:8080/",
          "height": 335
        },
        "outputId": "97adbdc5-4483-41ea-9399-b4cea271c606"
      },
      "outputs": [
        {
          "output_type": "execute_result",
          "data": {
            "text/plain": [
              "count     1,021\n",
              "mean    304,458\n",
              "std     104,028\n",
              "min      73,307\n",
              "25%     239,295\n",
              "50%     300,659\n",
              "75%     365,960\n",
              "max     746,909\n",
              "Name: predict_salary, dtype: float64"
            ],
            "text/html": [
              "<div>\n",
              "<style scoped>\n",
              "    .dataframe tbody tr th:only-of-type {\n",
              "        vertical-align: middle;\n",
              "    }\n",
              "\n",
              "    .dataframe tbody tr th {\n",
              "        vertical-align: top;\n",
              "    }\n",
              "\n",
              "    .dataframe thead th {\n",
              "        text-align: right;\n",
              "    }\n",
              "</style>\n",
              "<table border=\"1\" class=\"dataframe\">\n",
              "  <thead>\n",
              "    <tr style=\"text-align: right;\">\n",
              "      <th></th>\n",
              "      <th>predict_salary</th>\n",
              "    </tr>\n",
              "  </thead>\n",
              "  <tbody>\n",
              "    <tr>\n",
              "      <th>count</th>\n",
              "      <td>1,021</td>\n",
              "    </tr>\n",
              "    <tr>\n",
              "      <th>mean</th>\n",
              "      <td>304,458</td>\n",
              "    </tr>\n",
              "    <tr>\n",
              "      <th>std</th>\n",
              "      <td>104,028</td>\n",
              "    </tr>\n",
              "    <tr>\n",
              "      <th>min</th>\n",
              "      <td>73,307</td>\n",
              "    </tr>\n",
              "    <tr>\n",
              "      <th>25%</th>\n",
              "      <td>239,295</td>\n",
              "    </tr>\n",
              "    <tr>\n",
              "      <th>50%</th>\n",
              "      <td>300,659</td>\n",
              "    </tr>\n",
              "    <tr>\n",
              "      <th>75%</th>\n",
              "      <td>365,960</td>\n",
              "    </tr>\n",
              "    <tr>\n",
              "      <th>max</th>\n",
              "      <td>746,909</td>\n",
              "    </tr>\n",
              "  </tbody>\n",
              "</table>\n",
              "</div><br><label><b>dtype:</b> float64</label>"
            ]
          },
          "metadata": {},
          "execution_count": 30
        }
      ],
      "source": [
        "jobs_df['predict_salary'].describe()"
      ]
    },
    {
      "cell_type": "code",
      "execution_count": 31,
      "metadata": {
        "id": "GfTqUS1qQUKd",
        "colab": {
          "base_uri": "https://localhost:8080/"
        },
        "outputId": "e187c424-0626-44ac-ed26-066365fb32b9"
      },
      "outputs": [
        {
          "output_type": "stream",
          "name": "stdout",
          "text": [
            "Лучшие параметры: {'learning_rate': 0.01, 'max_depth': 3, 'n_estimators': 300}\n",
            "r2 0.41092055296107644\n",
            "mape 0.9031061590326448\n",
            "r2 -0.0771918264363407\n",
            "mape 0.7463655157217207\n"
          ]
        }
      ],
      "source": [
        "param_grid = {\n",
        "    'n_estimators': [100, 300, 500],\n",
        "    'learning_rate': [0.01, 0.05, 0.1],\n",
        "    'max_depth': [3, 5, 7]\n",
        "}\n",
        "\n",
        "# Пример использования:\n",
        "X_train_dummies = pd.get_dummies(X_train)\n",
        "X_test_dummies = pd.get_dummies(X_test)\n",
        "X_test_aligned = functions.align_columns(X_train_dummies, X_test_dummies)\n",
        "\n",
        "grid_search = GridSearchCV(GradientBoosting(), param_grid, scoring='neg_mean_absolute_error', cv=5)\n",
        "grid_search.fit(X_train_dummies, y_train)\n",
        "\n",
        "print(\"Лучшие параметры:\", grid_search.best_params_)\n",
        "best_model = grid_search.best_estimator_\n",
        "\n",
        "# best_model = GradientBoosting(n_estimators=300, learning_rate=0.01, max_depth=3)\n",
        "y_pred = cross_val_predict(best_model, pd.get_dummies(X_train), y_train, cv=4)\n",
        "print('r2', r2_score(y_train, y_pred))\n",
        "print('mape', mape(y_train, y_pred))\n",
        "\n",
        "y_pred_test = best_model.predict(pd.get_dummies(X_test_aligned))\n",
        "print('r2', r2_score(y_test, y_pred_test))\n",
        "print('mape', mape(y_test, y_pred_test))"
      ]
    },
    {
      "cell_type": "code",
      "source": [
        "depths = [3, 5, 7]\n",
        "\n",
        "errors_by_depth = functions.train_with_depth_variation(X_train_dummies, y_train, depths)\n",
        "\n",
        "plt.figure(figsize=(10, 6))\n",
        "plt.plot(list(errors_by_depth.keys()), list(errors_by_depth.values()), marker='o', linestyle='-', color='b')\n",
        "plt.xlabel(\"Tree Depth\")\n",
        "plt.ylabel(\"Mean Absolute Error (MAE)\")\n",
        "plt.title(\"Зависимость MAE от глубины дерева\")\n",
        "plt.grid()\n",
        "plt.show()"
      ],
      "metadata": {
        "id": "EuvsF_4F3T40",
        "colab": {
          "base_uri": "https://localhost:8080/",
          "height": 506
        },
        "outputId": "70f009ff-314f-4241-c8c9-958b22160a5f"
      },
      "execution_count": 33,
      "outputs": [
        {
          "output_type": "display_data",
          "data": {
            "text/plain": [
              "<Figure size 1000x600 with 1 Axes>"
            ],
            "image/png": "[encoded data removed]"
          },
          "metadata": {}
        }
      ]
    },
    {
      "cell_type": "markdown",
      "source": [
        "**Комментарии до правок:**"
      ],
      "metadata": {
        "id": "aQCsFH1_SuJB"
      }
    },
    {
      "cell_type": "markdown",
      "metadata": {
        "id": "Rgtc2_baaaTW"
      },
      "source": [
        "Мне выдавало ошибку из-за того, что cross_val_predict в scikit-learn ожидает, что объект модели будет наследовать интерфейс scikit-learn и реализовывать методы get_params и set_params, так что я добавил их в модель"
      ]
    },
    {
      "cell_type": "markdown",
      "metadata": {
        "id": "1S8IO7HfbWvt"
      },
      "source": [
        "Я написал упрощенную версию CatBoost и не расписывал деревья, лектор сказал норм"
      ]
    },
    {
      "cell_type": "markdown",
      "metadata": {
        "id": "gMLzYBcldp0B"
      },
      "source": [
        "Параметры, которые были добавлены:\n",
        "n_estimators — количество деревьев, learning_rate — скорость обучения ."
      ]
    },
    {
      "cell_type": "markdown",
      "source": [
        "**Комментарии после правок:**"
      ],
      "metadata": {
        "id": "zY-Fgh9xS8Mc"
      }
    },
    {
      "cell_type": "markdown",
      "source": [
        "Судя по графику функции потерь оригинальной модели Catboost глубина дерева не сильно влияет на mae. В модели my_catboost, которую я написал более четко видно, что при увеличении глубины дерева mae уменьшается."
      ],
      "metadata": {
        "id": "xwBmm_mpTAtu"
      }
    },
    {
      "cell_type": "markdown",
      "source": [
        "Если говорить о метрике r2 модели, то на тренировочных данных она показывала довольно слабый результат, а на тестовых плохой. Думаю это из-за недостаточно большого датасета, к тому же, зарплата была указана лишь в 15% вакансий"
      ],
      "metadata": {
        "id": "s8CxlAe6UhjV"
      }
    }
  ],
  "metadata": {
    "colab": {
      "provenance": []
    },
    "kernelspec": {
      "display_name": "Python 3",
      "name": "python3"
    },
    "language_info": {
      "name": "python"
    },
    "widgets": {
      "application/vnd.jupyter.widget-state+json": {
        "9bc996b0133442a286b810a162e9527f": {
          "model_module": "catboost-widget",
          "model_name": "CatboostWidgetModel",
          "model_module_version": "^1.0.0",
          "state": {
            "_dom_classes": [],
            "_model_module": "catboost-widget",
            "_model_module_version": "^1.0.0",
            "_model_name": "CatboostWidgetModel",
            "_view_count": null,
            "_view_module": "catboost-widget",
            "_view_module_version": "^1.0.0",
            "_view_name": "CatboostWidgetView",
            "data": {
              "catboost_info": {
                "path": "catboost_info",
                "name": "catboost_info",
                "content": {
                  "passed_iterations": 99,
                  "total_iterations": 100,
                  "data": {
                    "iterations": [
                      {
                        "learn": [
                          204136.3532
                        ],
                        "iteration": 0,
                        "passed_time": 0.0008899079202,
                        "remaining_time": 0.0881008841
                      },
                      {
                        "learn": [
                          201178.8496
                        ],
                        "iteration": 1,
                        "passed_time": 0.001519952244,
                        "remaining_time": 0.07447765996
                      },
                      {
                        "learn": [
                          198364.8837
                        ],
                        "iteration": 2,
                        "passed_time": 0.002070851086,
                        "remaining_time": 0.06695751846
                      },
                      {
                        "learn": [
                          194907.4352
                        ],
                        "iteration": 3,
                        "passed_time": 0.00259458553,
                        "remaining_time": 0.06227005272
                      },
                      {
                        "learn": [
                          192468.676
                        ],
                        "iteration": 4,
                        "passed_time": 0.003059965289,
                        "remaining_time": 0.05813934049
                      },
                      {
                        "learn": [
                          189925.181
                        ],
                        "iteration": 5,
                        "passed_time": 0.003547916744,
                        "remaining_time": 0.05558402899
                      },
                      {
                        "learn": [
                          186758.5662
                        ],
                        "iteration": 6,
                        "passed_time": 0.0040138165,
                        "remaining_time": 0.05332641922
                      },
                      {
                        "learn": [
                          184507.1833
                        ],
                        "iteration": 7,
                        "passed_time": 0.004520319219,
                        "remaining_time": 0.05198367101
                      },
                      {
                        "learn": [
                          182274.1861
                        ],
                        "iteration": 8,
                        "passed_time": 0.004972739957,
                        "remaining_time": 0.05027992623
                      },
                      {
                        "learn": [
                          180110.7142
                        ],
                        "iteration": 9,
                        "passed_time": 0.005336574809,
                        "remaining_time": 0.04802917328
                      },
                      {
                        "learn": [
                          178053.7984
                        ],
                        "iteration": 10,
                        "passed_time": 0.005815885402,
                        "remaining_time": 0.04705580007
                      },
                      {
                        "learn": [
                          177150.2622
                        ],
                        "iteration": 11,
                        "passed_time": 0.00617921253,
                        "remaining_time": 0.04531422522
                      },
                      {
                        "learn": [
                          176469.3583
                        ],
                        "iteration": 12,
                        "passed_time": 0.006638821866,
                        "remaining_time": 0.04442903864
                      },
                      {
                        "learn": [
                          175705.162
                        ],
                        "iteration": 13,
                        "passed_time": 0.007128105132,
                        "remaining_time": 0.04378693153
                      },
                      {
                        "learn": [
                          174813.7767
                        ],
                        "iteration": 14,
                        "passed_time": 0.007459065162,
                        "remaining_time": 0.04226803592
                      },
                      {
                        "learn": [
                          173856.9655
                        ],
                        "iteration": 15,
                        "passed_time": 0.007939119842,
                        "remaining_time": 0.04168037917
                      },
                      {
                        "learn": [
                          172178.9311
                        ],
                        "iteration": 16,
                        "passed_time": 0.008390400132,
                        "remaining_time": 0.04096489476
                      },
                      {
                        "learn": [
                          171259.5002
                        ],
                        "iteration": 17,
                        "passed_time": 0.008873220705,
                        "remaining_time": 0.04042244988
                      },
                      {
                        "learn": [
                          170551.8571
                        ],
                        "iteration": 18,
                        "passed_time": 0.009200489847,
                        "remaining_time": 0.03922314092
                      },
                      {
                        "learn": [
                          169707.0723
                        ],
                        "iteration": 19,
                        "passed_time": 0.009697050346,
                        "remaining_time": 0.03878820138
                      },
                      {
                        "learn": [
                          168640.1461
                        ],
                        "iteration": 20,
                        "passed_time": 0.01014206158,
                        "remaining_time": 0.03815346975
                      },
                      {
                        "learn": [
                          167813.6443
                        ],
                        "iteration": 21,
                        "passed_time": 0.01060889315,
                        "remaining_time": 0.03761334843
                      },
                      {
                        "learn": [
                          166278.0424
                        ],
                        "iteration": 22,
                        "passed_time": 0.01106277161,
                        "remaining_time": 0.03703623537
                      },
                      {
                        "learn": [
                          164891.3972
                        ],
                        "iteration": 23,
                        "passed_time": 0.01155332577,
                        "remaining_time": 0.03658553162
                      },
                      {
                        "learn": [
                          163903.945
                        ],
                        "iteration": 24,
                        "passed_time": 0.01269744459,
                        "remaining_time": 0.03809233378
                      },
                      {
                        "learn": [
                          163833.7616
                        ],
                        "iteration": 25,
                        "passed_time": 0.01304877633,
                        "remaining_time": 0.03713882494
                      },
                      {
                        "learn": [
                          162551.515
                        ],
                        "iteration": 26,
                        "passed_time": 0.01352919419,
                        "remaining_time": 0.03657893244
                      },
                      {
                        "learn": [
                          161819.4175
                        ],
                        "iteration": 27,
                        "passed_time": 0.013851222,
                        "remaining_time": 0.03561742799
                      },
                      {
                        "learn": [
                          161060.6439
                        ],
                        "iteration": 28,
                        "passed_time": 0.01432819488,
                        "remaining_time": 0.03507937366
                      },
                      {
                        "learn": [
                          161032.9181
                        ],
                        "iteration": 29,
                        "passed_time": 0.01477402429,
                        "remaining_time": 0.03447272333
                      },
                      {
                        "learn": [
                          160448.6352
                        ],
                        "iteration": 30,
                        "passed_time": 0.01524369766,
                        "remaining_time": 0.03392952059
                      },
                      {
                        "learn": [
                          160027.7154
                        ],
                        "iteration": 31,
                        "passed_time": 0.0156967143,
                        "remaining_time": 0.03335551789
                      },
                      {
                        "learn": [
                          159594.908
                        ],
                        "iteration": 32,
                        "passed_time": 0.01623753956,
                        "remaining_time": 0.03296712578
                      },
                      {
                        "learn": [
                          158582.1888
                        ],
                        "iteration": 33,
                        "passed_time": 0.01671119473,
                        "remaining_time": 0.03243937801
                      },
                      {
                        "learn": [
                          158228.3494
                        ],
                        "iteration": 34,
                        "passed_time": 0.01718962033,
                        "remaining_time": 0.03192358061
                      },
                      {
                        "learn": [
                          157092.4715
                        ],
                        "iteration": 35,
                        "passed_time": 0.01763841927,
                        "remaining_time": 0.03135718981
                      },
                      {
                        "learn": [
                          156193.8591
                        ],
                        "iteration": 36,
                        "passed_time": 0.01811132762,
                        "remaining_time": 0.03083820649
                      },
                      {
                        "learn": [
                          155550.1388
                        ],
                        "iteration": 37,
                        "passed_time": 0.01863164936,
                        "remaining_time": 0.03039900684
                      },
                      {
                        "learn": [
                          154873.9974
                        ],
                        "iteration": 38,
                        "passed_time": 0.01911216403,
                        "remaining_time": 0.02989338477
                      },
                      {
                        "learn": [
                          154429.4581
                        ],
                        "iteration": 39,
                        "passed_time": 0.01955742117,
                        "remaining_time": 0.02933613176
                      },
                      {
                        "learn": [
                          153640.3331
                        ],
                        "iteration": 40,
                        "passed_time": 0.02002125185,
                        "remaining_time": 0.02881106974
                      },
                      {
                        "learn": [
                          153173.9055
                        ],
                        "iteration": 41,
                        "passed_time": 0.02047184669,
                        "remaining_time": 0.02827064543
                      },
                      {
                        "learn": [
                          152439.0433
                        ],
                        "iteration": 42,
                        "passed_time": 0.02093446328,
                        "remaining_time": 0.02775033505
                      },
                      {
                        "learn": [
                          151862.9387
                        ],
                        "iteration": 43,
                        "passed_time": 0.02138481267,
                        "remaining_time": 0.0272170343
                      },
                      {
                        "learn": [
                          151426.583
                        ],
                        "iteration": 44,
                        "passed_time": 0.02184996243,
                        "remaining_time": 0.02670550963
                      },
                      {
                        "learn": [
                          151411.3673
                        ],
                        "iteration": 45,
                        "passed_time": 0.02208344616,
                        "remaining_time": 0.0259240455
                      },
                      {
                        "learn": [
                          150823.0528
                        ],
                        "iteration": 46,
                        "passed_time": 0.02255674224,
                        "remaining_time": 0.02543632636
                      },
                      {
                        "learn": [
                          150325.2576
                        ],
                        "iteration": 47,
                        "passed_time": 0.02301186433,
                        "remaining_time": 0.02492951969
                      },
                      {
                        "learn": [
                          150001.3812
                        ],
                        "iteration": 48,
                        "passed_time": 0.02348640131,
                        "remaining_time": 0.02444502994
                      },
                      {
                        "learn": [
                          149976.9742
                        ],
                        "iteration": 49,
                        "passed_time": 0.02381030684,
                        "remaining_time": 0.02381030684
                      },
                      {
                        "learn": [
                          149372.0452
                        ],
                        "iteration": 50,
                        "passed_time": 0.02427854658,
                        "remaining_time": 0.02332644671
                      },
                      {
                        "learn": [
                          148768.9068
                        ],
                        "iteration": 51,
                        "passed_time": 0.02471351014,
                        "remaining_time": 0.0228124709
                      },
                      {
                        "learn": [
                          148439.0693
                        ],
                        "iteration": 52,
                        "passed_time": 0.02521841014,
                        "remaining_time": 0.02236349578
                      },
                      {
                        "learn": [
                          148371.7428
                        ],
                        "iteration": 53,
                        "passed_time": 0.02567412541,
                        "remaining_time": 0.02187055127
                      },
                      {
                        "learn": [
                          148028.4459
                        ],
                        "iteration": 54,
                        "passed_time": 0.02614577149,
                        "remaining_time": 0.02139199486
                      },
                      {
                        "learn": [
                          147060.575
                        ],
                        "iteration": 55,
                        "passed_time": 0.02662522118,
                        "remaining_time": 0.02091981664
                      },
                      {
                        "learn": [
                          146350.6395
                        ],
                        "iteration": 56,
                        "passed_time": 0.02719667945,
                        "remaining_time": 0.02051679327
                      },
                      {
                        "learn": [
                          145889.5745
                        ],
                        "iteration": 57,
                        "passed_time": 0.02765067973,
                        "remaining_time": 0.02002290601
                      },
                      {
                        "learn": [
                          145154.7728
                        ],
                        "iteration": 58,
                        "passed_time": 0.02817935096,
                        "remaining_time": 0.01958226084
                      },
                      {
                        "learn": [
                          145011.7246
                        ],
                        "iteration": 59,
                        "passed_time": 0.02863529441,
                        "remaining_time": 0.01909019627
                      },
                      {
                        "learn": [
                          144303.6342
                        ],
                        "iteration": 60,
                        "passed_time": 0.0291032387,
                        "remaining_time": 0.01860698868
                      },
                      {
                        "learn": [
                          143899.9157
                        ],
                        "iteration": 61,
                        "passed_time": 0.02955468853,
                        "remaining_time": 0.01811416394
                      },
                      {
                        "learn": [
                          142977.9518
                        ],
                        "iteration": 62,
                        "passed_time": 0.0300207942,
                        "remaining_time": 0.01763126008
                      },
                      {
                        "learn": [
                          142696.8075
                        ],
                        "iteration": 63,
                        "passed_time": 0.03051528289,
                        "remaining_time": 0.01716484663
                      },
                      {
                        "learn": [
                          142592.1959
                        ],
                        "iteration": 64,
                        "passed_time": 0.03098594217,
                        "remaining_time": 0.01668473809
                      },
                      {
                        "learn": [
                          141748.4979
                        ],
                        "iteration": 65,
                        "passed_time": 0.03145666462,
                        "remaining_time": 0.01620494844
                      },
                      {
                        "learn": [
                          141155.5229
                        ],
                        "iteration": 66,
                        "passed_time": 0.03192456846,
                        "remaining_time": 0.01572404118
                      },
                      {
                        "learn": [
                          140661.5783
                        ],
                        "iteration": 67,
                        "passed_time": 0.03237987282,
                        "remaining_time": 0.01523758721
                      },
                      {
                        "learn": [
                          140178.3335
                        ],
                        "iteration": 68,
                        "passed_time": 0.0328630743,
                        "remaining_time": 0.01476456961
                      },
                      {
                        "learn": [
                          139894.0675
                        ],
                        "iteration": 69,
                        "passed_time": 0.03331265733,
                        "remaining_time": 0.01427685314
                      },
                      {
                        "learn": [
                          139388.8741
                        ],
                        "iteration": 70,
                        "passed_time": 0.03375533721,
                        "remaining_time": 0.01378739125
                      },
                      {
                        "learn": [
                          139354.4086
                        ],
                        "iteration": 71,
                        "passed_time": 0.03420286115,
                        "remaining_time": 0.01330111267
                      },
                      {
                        "learn": [
                          138965.1031
                        ],
                        "iteration": 72,
                        "passed_time": 0.0346415506,
                        "remaining_time": 0.0128126283
                      },
                      {
                        "learn": [
                          138851.6713
                        ],
                        "iteration": 73,
                        "passed_time": 0.03508684592,
                        "remaining_time": 0.01232781073
                      },
                      {
                        "learn": [
                          138612.2642
                        ],
                        "iteration": 74,
                        "passed_time": 0.0355498316,
                        "remaining_time": 0.01184994387
                      },
                      {
                        "learn": [
                          138434.0618
                        ],
                        "iteration": 75,
                        "passed_time": 0.03599703464,
                        "remaining_time": 0.01136748462
                      },
                      {
                        "learn": [
                          138100.6901
                        ],
                        "iteration": 76,
                        "passed_time": 0.03646368803,
                        "remaining_time": 0.01089175097
                      },
                      {
                        "learn": [
                          137746.8052
                        ],
                        "iteration": 77,
                        "passed_time": 0.03690911744,
                        "remaining_time": 0.01041026389
                      },
                      {
                        "learn": [
                          137674.5793
                        ],
                        "iteration": 78,
                        "passed_time": 0.03738607941,
                        "remaining_time": 0.009938071743
                      },
                      {
                        "learn": [
                          137635.6839
                        ],
                        "iteration": 79,
                        "passed_time": 0.0378355088,
                        "remaining_time": 0.009458877201
                      },
                      {
                        "learn": [
                          137181.9066
                        ],
                        "iteration": 80,
                        "passed_time": 0.03829458496,
                        "remaining_time": 0.008982680423
                      },
                      {
                        "learn": [
                          137064.6365
                        ],
                        "iteration": 81,
                        "passed_time": 0.038740633,
                        "remaining_time": 0.008504041391
                      },
                      {
                        "learn": [
                          136835.7112
                        ],
                        "iteration": 82,
                        "passed_time": 0.03918129153,
                        "remaining_time": 0.008025083808
                      },
                      {
                        "learn": [
                          136674.3787
                        ],
                        "iteration": 83,
                        "passed_time": 0.03962425369,
                        "remaining_time": 0.007547476893
                      },
                      {
                        "learn": [
                          136377.195
                        ],
                        "iteration": 84,
                        "passed_time": 0.04006848401,
                        "remaining_time": 0.007070908944
                      },
                      {
                        "learn": [
                          136360.6012
                        ],
                        "iteration": 85,
                        "passed_time": 0.04051329434,
                        "remaining_time": 0.00659518745
                      },
                      {
                        "learn": [
                          136152.0673
                        ],
                        "iteration": 86,
                        "passed_time": 0.0409578033,
                        "remaining_time": 0.006120131528
                      },
                      {
                        "learn": [
                          135293.0808
                        ],
                        "iteration": 87,
                        "passed_time": 0.04141560492,
                        "remaining_time": 0.005647582489
                      },
                      {
                        "learn": [
                          135000.4983
                        ],
                        "iteration": 88,
                        "passed_time": 0.04185800662,
                        "remaining_time": 0.005173461492
                      },
                      {
                        "learn": [
                          134675.437
                        ],
                        "iteration": 89,
                        "passed_time": 0.04234370718,
                        "remaining_time": 0.004704856353
                      },
                      {
                        "learn": [
                          134513.7166
                        ],
                        "iteration": 90,
                        "passed_time": 0.04278972022,
                        "remaining_time": 0.004231950352
                      },
                      {
                        "learn": [
                          134486.4478
                        ],
                        "iteration": 91,
                        "passed_time": 0.04333485228,
                        "remaining_time": 0.003768248024
                      },
                      {
                        "learn": [
                          134128.6976
                        ],
                        "iteration": 92,
                        "passed_time": 0.04380923017,
                        "remaining_time": 0.003297468938
                      },
                      {
                        "learn": [
                          133605.2384
                        ],
                        "iteration": 93,
                        "passed_time": 0.04428850485,
                        "remaining_time": 0.002826925842
                      },
                      {
                        "learn": [
                          133331.9038
                        ],
                        "iteration": 94,
                        "passed_time": 0.0447529128,
                        "remaining_time": 0.002355416463
                      },
                      {
                        "learn": [
                          132486.9262
                        ],
                        "iteration": 95,
                        "passed_time": 0.04522644706,
                        "remaining_time": 0.001884435294
                      },
                      {
                        "learn": [
                          132472.8679
                        ],
                        "iteration": 96,
                        "passed_time": 0.04567460282,
                        "remaining_time": 0.001412616582
                      },
                      {
                        "learn": [
                          132035.1695
                        ],
                        "iteration": 97,
                        "passed_time": 0.04617084832,
                        "remaining_time": 0.0009422622107
                      },
                      {
                        "learn": [
                          131767.4265
                        ],
                        "iteration": 98,
                        "passed_time": 0.04662008226,
                        "remaining_time": 0.0004709099218
                      },
                      {
                        "learn": [
                          131399.9391
                        ],
                        "iteration": 99,
                        "passed_time": 0.04714644669,
                        "remaining_time": 0
                      }
                    ],
                    "meta": {
                      "test_sets": [],
                      "test_metrics": [],
                      "learn_metrics": [
                        {
                          "best_value": "Min",
                          "name": "RMSE"
                        }
                      ],
                      "launch_mode": "Train",
                      "parameters": "",
                      "iteration_count": 100,
                      "learn_sets": [
                        "learn"
                      ],
                      "name": "experiment"
                    }
                  }
                }
              }
            },
            "layout": "IPY_MODEL_dffa891a463f4de4883d033e69c78f93"
          }
        }
      }
    }
  },
  "nbformat": 4,
  "nbformat_minor": 0
}